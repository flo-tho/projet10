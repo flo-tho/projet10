{
 "cells": [
  {
   "cell_type": "markdown",
   "id": "6e62ae91-2269-40c4-a840-3fed381d6940",
   "metadata": {},
   "source": [
    "**Projet 10: Réaliser une application de recommandation de contenu** \n",
    "\n",
    "\n",
    "\n",
    "> \"View\" > \"Table of contents\" pour voir le plan du notebook"
   ]
  },
  {
   "cell_type": "markdown",
   "id": "af8dfd93-27f4-4000-8f6e-fb4ee98e89c5",
   "metadata": {},
   "source": [
    "# 1. Imports et paramétrages"
   ]
  },
  {
   "cell_type": "markdown",
   "id": "d32340a3-3b94-47d4-8c4d-06e412f6fdfe",
   "metadata": {},
   "source": [
    "## 1.1 Installation et import des librairies"
   ]
  },
  {
   "cell_type": "code",
   "execution_count": 1,
   "id": "ba9ec875-e612-4949-aac9-79bdc318300b",
   "metadata": {},
   "outputs": [
    {
     "name": "stdout",
     "output_type": "stream",
     "text": [
      "Requirement already satisfied: numpy<2.0 in c:\\users\\flore\\openclassrooms\\projet 10\\envp10\\lib\\site-packages (1.26.4)\n"
     ]
    }
   ],
   "source": [
    "!pip install \"numpy<2.0\""
   ]
  },
  {
   "cell_type": "code",
   "execution_count": 2,
   "id": "e5daec7b-b14b-4524-8caf-5bb4f053a327",
   "metadata": {},
   "outputs": [
    {
     "name": "stdout",
     "output_type": "stream",
     "text": [
      "Requirement already satisfied: progressbar in c:\\users\\flore\\openclassrooms\\projet 10\\envp10\\lib\\site-packages (2.5)\n",
      "Requirement already satisfied: pandas in c:\\users\\flore\\openclassrooms\\projet 10\\envp10\\lib\\site-packages (2.2.3)\n",
      "Requirement already satisfied: matplotlib in c:\\users\\flore\\openclassrooms\\projet 10\\envp10\\lib\\site-packages (3.10.1)\n",
      "Requirement already satisfied: scikit-learn in c:\\users\\flore\\openclassrooms\\projet 10\\envp10\\lib\\site-packages (1.6.1)\n",
      "Requirement already satisfied: missingno in c:\\users\\flore\\openclassrooms\\projet 10\\envp10\\lib\\site-packages (0.5.2)\n",
      "Requirement already satisfied: tqdm in c:\\users\\flore\\openclassrooms\\projet 10\\envp10\\lib\\site-packages (4.67.1)\n",
      "Requirement already satisfied: mlflow in c:\\users\\flore\\openclassrooms\\projet 10\\envp10\\lib\\site-packages (2.22.0)\n",
      "Requirement already satisfied: numpy>=1.26.0 in c:\\users\\flore\\openclassrooms\\projet 10\\envp10\\lib\\site-packages (from pandas) (1.26.4)\n",
      "Requirement already satisfied: python-dateutil>=2.8.2 in c:\\users\\flore\\openclassrooms\\projet 10\\envp10\\lib\\site-packages (from pandas) (2.9.0.post0)\n",
      "Requirement already satisfied: pytz>=2020.1 in c:\\users\\flore\\openclassrooms\\projet 10\\envp10\\lib\\site-packages (from pandas) (2025.2)\n",
      "Requirement already satisfied: tzdata>=2022.7 in c:\\users\\flore\\openclassrooms\\projet 10\\envp10\\lib\\site-packages (from pandas) (2025.2)\n",
      "Requirement already satisfied: contourpy>=1.0.1 in c:\\users\\flore\\openclassrooms\\projet 10\\envp10\\lib\\site-packages (from matplotlib) (1.3.2)\n",
      "Requirement already satisfied: cycler>=0.10 in c:\\users\\flore\\openclassrooms\\projet 10\\envp10\\lib\\site-packages (from matplotlib) (0.12.1)\n",
      "Requirement already satisfied: fonttools>=4.22.0 in c:\\users\\flore\\openclassrooms\\projet 10\\envp10\\lib\\site-packages (from matplotlib) (4.57.0)\n",
      "Requirement already satisfied: kiwisolver>=1.3.1 in c:\\users\\flore\\openclassrooms\\projet 10\\envp10\\lib\\site-packages (from matplotlib) (1.4.8)\n",
      "Requirement already satisfied: packaging>=20.0 in c:\\users\\flore\\openclassrooms\\projet 10\\envp10\\lib\\site-packages (from matplotlib) (24.2)\n",
      "Requirement already satisfied: pillow>=8 in c:\\users\\flore\\openclassrooms\\projet 10\\envp10\\lib\\site-packages (from matplotlib) (11.2.1)\n",
      "Requirement already satisfied: pyparsing>=2.3.1 in c:\\users\\flore\\openclassrooms\\projet 10\\envp10\\lib\\site-packages (from matplotlib) (3.2.3)\n",
      "Requirement already satisfied: scipy>=1.6.0 in c:\\users\\flore\\openclassrooms\\projet 10\\envp10\\lib\\site-packages (from scikit-learn) (1.15.2)\n",
      "Requirement already satisfied: joblib>=1.2.0 in c:\\users\\flore\\openclassrooms\\projet 10\\envp10\\lib\\site-packages (from scikit-learn) (1.5.0)\n",
      "Requirement already satisfied: threadpoolctl>=3.1.0 in c:\\users\\flore\\openclassrooms\\projet 10\\envp10\\lib\\site-packages (from scikit-learn) (3.6.0)\n",
      "Requirement already satisfied: seaborn in c:\\users\\flore\\openclassrooms\\projet 10\\envp10\\lib\\site-packages (from missingno) (0.13.2)\n",
      "Requirement already satisfied: colorama in c:\\users\\flore\\openclassrooms\\projet 10\\envp10\\lib\\site-packages (from tqdm) (0.4.6)\n",
      "Requirement already satisfied: mlflow-skinny==2.22.0 in c:\\users\\flore\\openclassrooms\\projet 10\\envp10\\lib\\site-packages (from mlflow) (2.22.0)\n",
      "Requirement already satisfied: Flask<4 in c:\\users\\flore\\openclassrooms\\projet 10\\envp10\\lib\\site-packages (from mlflow) (3.1.1)\n",
      "Requirement already satisfied: Jinja2<4,>=3.0 in c:\\users\\flore\\openclassrooms\\projet 10\\envp10\\lib\\site-packages (from mlflow) (3.1.6)\n",
      "Requirement already satisfied: alembic!=1.10.0,<2 in c:\\users\\flore\\openclassrooms\\projet 10\\envp10\\lib\\site-packages (from mlflow) (1.15.2)\n",
      "Requirement already satisfied: docker<8,>=4.0.0 in c:\\users\\flore\\openclassrooms\\projet 10\\envp10\\lib\\site-packages (from mlflow) (7.1.0)\n",
      "Requirement already satisfied: graphene<4 in c:\\users\\flore\\openclassrooms\\projet 10\\envp10\\lib\\site-packages (from mlflow) (3.4.3)\n",
      "Requirement already satisfied: markdown<4,>=3.3 in c:\\users\\flore\\openclassrooms\\projet 10\\envp10\\lib\\site-packages (from mlflow) (3.8)\n",
      "Requirement already satisfied: pyarrow<20,>=4.0.0 in c:\\users\\flore\\openclassrooms\\projet 10\\envp10\\lib\\site-packages (from mlflow) (19.0.1)\n",
      "Requirement already satisfied: sqlalchemy<3,>=1.4.0 in c:\\users\\flore\\openclassrooms\\projet 10\\envp10\\lib\\site-packages (from mlflow) (2.0.41)\n",
      "Requirement already satisfied: waitress<4 in c:\\users\\flore\\openclassrooms\\projet 10\\envp10\\lib\\site-packages (from mlflow) (3.0.2)\n",
      "Requirement already satisfied: cachetools<6,>=5.0.0 in c:\\users\\flore\\openclassrooms\\projet 10\\envp10\\lib\\site-packages (from mlflow-skinny==2.22.0->mlflow) (5.5.2)\n",
      "Requirement already satisfied: click<9,>=7.0 in c:\\users\\flore\\openclassrooms\\projet 10\\envp10\\lib\\site-packages (from mlflow-skinny==2.22.0->mlflow) (8.2.0)\n",
      "Requirement already satisfied: cloudpickle<4 in c:\\users\\flore\\openclassrooms\\projet 10\\envp10\\lib\\site-packages (from mlflow-skinny==2.22.0->mlflow) (3.1.1)\n",
      "Requirement already satisfied: databricks-sdk<1,>=0.20.0 in c:\\users\\flore\\openclassrooms\\projet 10\\envp10\\lib\\site-packages (from mlflow-skinny==2.22.0->mlflow) (0.53.0)\n",
      "Requirement already satisfied: fastapi<1 in c:\\users\\flore\\openclassrooms\\projet 10\\envp10\\lib\\site-packages (from mlflow-skinny==2.22.0->mlflow) (0.115.12)\n",
      "Requirement already satisfied: gitpython<4,>=3.1.9 in c:\\users\\flore\\openclassrooms\\projet 10\\envp10\\lib\\site-packages (from mlflow-skinny==2.22.0->mlflow) (3.1.44)\n",
      "Requirement already satisfied: importlib_metadata!=4.7.0,<9,>=3.7.0 in c:\\users\\flore\\openclassrooms\\projet 10\\envp10\\lib\\site-packages (from mlflow-skinny==2.22.0->mlflow) (8.6.1)\n",
      "Requirement already satisfied: opentelemetry-api<3,>=1.9.0 in c:\\users\\flore\\openclassrooms\\projet 10\\envp10\\lib\\site-packages (from mlflow-skinny==2.22.0->mlflow) (1.33.0)\n",
      "Requirement already satisfied: opentelemetry-sdk<3,>=1.9.0 in c:\\users\\flore\\openclassrooms\\projet 10\\envp10\\lib\\site-packages (from mlflow-skinny==2.22.0->mlflow) (1.33.0)\n",
      "Requirement already satisfied: protobuf<7,>=3.12.0 in c:\\users\\flore\\openclassrooms\\projet 10\\envp10\\lib\\site-packages (from mlflow-skinny==2.22.0->mlflow) (6.31.0)\n",
      "Requirement already satisfied: pydantic<3,>=1.10.8 in c:\\users\\flore\\openclassrooms\\projet 10\\envp10\\lib\\site-packages (from mlflow-skinny==2.22.0->mlflow) (2.11.4)\n",
      "Requirement already satisfied: pyyaml<7,>=5.1 in c:\\users\\flore\\openclassrooms\\projet 10\\envp10\\lib\\site-packages (from mlflow-skinny==2.22.0->mlflow) (6.0.2)\n",
      "Requirement already satisfied: requests<3,>=2.17.3 in c:\\users\\flore\\openclassrooms\\projet 10\\envp10\\lib\\site-packages (from mlflow-skinny==2.22.0->mlflow) (2.32.3)\n",
      "Requirement already satisfied: sqlparse<1,>=0.4.0 in c:\\users\\flore\\openclassrooms\\projet 10\\envp10\\lib\\site-packages (from mlflow-skinny==2.22.0->mlflow) (0.5.3)\n",
      "Requirement already satisfied: typing-extensions<5,>=4.0.0 in c:\\users\\flore\\openclassrooms\\projet 10\\envp10\\lib\\site-packages (from mlflow-skinny==2.22.0->mlflow) (4.13.2)\n",
      "Requirement already satisfied: uvicorn<1 in c:\\users\\flore\\openclassrooms\\projet 10\\envp10\\lib\\site-packages (from mlflow-skinny==2.22.0->mlflow) (0.34.2)\n",
      "Requirement already satisfied: Mako in c:\\users\\flore\\openclassrooms\\projet 10\\envp10\\lib\\site-packages (from alembic!=1.10.0,<2->mlflow) (1.3.10)\n",
      "Requirement already satisfied: google-auth~=2.0 in c:\\users\\flore\\openclassrooms\\projet 10\\envp10\\lib\\site-packages (from databricks-sdk<1,>=0.20.0->mlflow-skinny==2.22.0->mlflow) (2.40.1)\n",
      "Requirement already satisfied: pywin32>=304 in c:\\users\\flore\\openclassrooms\\projet 10\\envp10\\lib\\site-packages (from docker<8,>=4.0.0->mlflow) (310)\n",
      "Requirement already satisfied: urllib3>=1.26.0 in c:\\users\\flore\\openclassrooms\\projet 10\\envp10\\lib\\site-packages (from docker<8,>=4.0.0->mlflow) (2.4.0)\n",
      "Requirement already satisfied: starlette<0.47.0,>=0.40.0 in c:\\users\\flore\\openclassrooms\\projet 10\\envp10\\lib\\site-packages (from fastapi<1->mlflow-skinny==2.22.0->mlflow) (0.46.2)\n",
      "Requirement already satisfied: blinker>=1.9.0 in c:\\users\\flore\\openclassrooms\\projet 10\\envp10\\lib\\site-packages (from Flask<4->mlflow) (1.9.0)\n",
      "Requirement already satisfied: itsdangerous>=2.2.0 in c:\\users\\flore\\openclassrooms\\projet 10\\envp10\\lib\\site-packages (from Flask<4->mlflow) (2.2.0)\n",
      "Requirement already satisfied: markupsafe>=2.1.1 in c:\\users\\flore\\openclassrooms\\projet 10\\envp10\\lib\\site-packages (from Flask<4->mlflow) (3.0.2)\n",
      "Requirement already satisfied: werkzeug>=3.1.0 in c:\\users\\flore\\openclassrooms\\projet 10\\envp10\\lib\\site-packages (from Flask<4->mlflow) (3.1.3)\n",
      "Requirement already satisfied: gitdb<5,>=4.0.1 in c:\\users\\flore\\openclassrooms\\projet 10\\envp10\\lib\\site-packages (from gitpython<4,>=3.1.9->mlflow-skinny==2.22.0->mlflow) (4.0.12)\n",
      "Requirement already satisfied: smmap<6,>=3.0.1 in c:\\users\\flore\\openclassrooms\\projet 10\\envp10\\lib\\site-packages (from gitdb<5,>=4.0.1->gitpython<4,>=3.1.9->mlflow-skinny==2.22.0->mlflow) (5.0.2)\n",
      "Requirement already satisfied: pyasn1-modules>=0.2.1 in c:\\users\\flore\\openclassrooms\\projet 10\\envp10\\lib\\site-packages (from google-auth~=2.0->databricks-sdk<1,>=0.20.0->mlflow-skinny==2.22.0->mlflow) (0.4.2)\n",
      "Requirement already satisfied: rsa<5,>=3.1.4 in c:\\users\\flore\\openclassrooms\\projet 10\\envp10\\lib\\site-packages (from google-auth~=2.0->databricks-sdk<1,>=0.20.0->mlflow-skinny==2.22.0->mlflow) (4.9.1)\n",
      "Requirement already satisfied: graphql-core<3.3,>=3.1 in c:\\users\\flore\\openclassrooms\\projet 10\\envp10\\lib\\site-packages (from graphene<4->mlflow) (3.2.6)\n",
      "Requirement already satisfied: graphql-relay<3.3,>=3.1 in c:\\users\\flore\\openclassrooms\\projet 10\\envp10\\lib\\site-packages (from graphene<4->mlflow) (3.2.0)\n",
      "Requirement already satisfied: zipp>=3.20 in c:\\users\\flore\\openclassrooms\\projet 10\\envp10\\lib\\site-packages (from importlib_metadata!=4.7.0,<9,>=3.7.0->mlflow-skinny==2.22.0->mlflow) (3.21.0)\n",
      "Requirement already satisfied: deprecated>=1.2.6 in c:\\users\\flore\\openclassrooms\\projet 10\\envp10\\lib\\site-packages (from opentelemetry-api<3,>=1.9.0->mlflow-skinny==2.22.0->mlflow) (1.2.18)\n",
      "Requirement already satisfied: opentelemetry-semantic-conventions==0.54b0 in c:\\users\\flore\\openclassrooms\\projet 10\\envp10\\lib\\site-packages (from opentelemetry-sdk<3,>=1.9.0->mlflow-skinny==2.22.0->mlflow) (0.54b0)\n",
      "Requirement already satisfied: annotated-types>=0.6.0 in c:\\users\\flore\\openclassrooms\\projet 10\\envp10\\lib\\site-packages (from pydantic<3,>=1.10.8->mlflow-skinny==2.22.0->mlflow) (0.7.0)\n",
      "Requirement already satisfied: pydantic-core==2.33.2 in c:\\users\\flore\\openclassrooms\\projet 10\\envp10\\lib\\site-packages (from pydantic<3,>=1.10.8->mlflow-skinny==2.22.0->mlflow) (2.33.2)\n",
      "Requirement already satisfied: typing-inspection>=0.4.0 in c:\\users\\flore\\openclassrooms\\projet 10\\envp10\\lib\\site-packages (from pydantic<3,>=1.10.8->mlflow-skinny==2.22.0->mlflow) (0.4.0)\n",
      "Requirement already satisfied: six>=1.5 in c:\\users\\flore\\openclassrooms\\projet 10\\envp10\\lib\\site-packages (from python-dateutil>=2.8.2->pandas) (1.17.0)\n",
      "Requirement already satisfied: charset-normalizer<4,>=2 in c:\\users\\flore\\openclassrooms\\projet 10\\envp10\\lib\\site-packages (from requests<3,>=2.17.3->mlflow-skinny==2.22.0->mlflow) (3.4.2)\n",
      "Requirement already satisfied: idna<4,>=2.5 in c:\\users\\flore\\openclassrooms\\projet 10\\envp10\\lib\\site-packages (from requests<3,>=2.17.3->mlflow-skinny==2.22.0->mlflow) (3.10)\n",
      "Requirement already satisfied: certifi>=2017.4.17 in c:\\users\\flore\\openclassrooms\\projet 10\\envp10\\lib\\site-packages (from requests<3,>=2.17.3->mlflow-skinny==2.22.0->mlflow) (2025.4.26)\n",
      "Requirement already satisfied: pyasn1>=0.1.3 in c:\\users\\flore\\openclassrooms\\projet 10\\envp10\\lib\\site-packages (from rsa<5,>=3.1.4->google-auth~=2.0->databricks-sdk<1,>=0.20.0->mlflow-skinny==2.22.0->mlflow) (0.6.1)\n",
      "Requirement already satisfied: greenlet>=1 in c:\\users\\flore\\openclassrooms\\projet 10\\envp10\\lib\\site-packages (from sqlalchemy<3,>=1.4.0->mlflow) (3.2.2)\n",
      "Requirement already satisfied: anyio<5,>=3.6.2 in c:\\users\\flore\\openclassrooms\\projet 10\\envp10\\lib\\site-packages (from starlette<0.47.0,>=0.40.0->fastapi<1->mlflow-skinny==2.22.0->mlflow) (4.9.0)\n",
      "Requirement already satisfied: sniffio>=1.1 in c:\\users\\flore\\openclassrooms\\projet 10\\envp10\\lib\\site-packages (from anyio<5,>=3.6.2->starlette<0.47.0,>=0.40.0->fastapi<1->mlflow-skinny==2.22.0->mlflow) (1.3.1)\n",
      "Requirement already satisfied: h11>=0.8 in c:\\users\\flore\\openclassrooms\\projet 10\\envp10\\lib\\site-packages (from uvicorn<1->mlflow-skinny==2.22.0->mlflow) (0.16.0)\n",
      "Requirement already satisfied: wrapt<2,>=1.10 in c:\\users\\flore\\openclassrooms\\projet 10\\envp10\\lib\\site-packages (from deprecated>=1.2.6->opentelemetry-api<3,>=1.9.0->mlflow-skinny==2.22.0->mlflow) (1.17.2)\n"
     ]
    }
   ],
   "source": [
    "!pip install progressbar pandas matplotlib scikit-learn missingno tqdm mlflow"
   ]
  },
  {
   "cell_type": "code",
   "execution_count": 3,
   "id": "8074df2a-adb4-4829-a0a1-598f57e72963",
   "metadata": {},
   "outputs": [
    {
     "name": "stdout",
     "output_type": "stream",
     "text": [
      "Requirement already satisfied: scikit-surprise in c:\\users\\flore\\openclassrooms\\projet 10\\envp10\\lib\\site-packages (1.1.4)\n",
      "Requirement already satisfied: joblib>=1.2.0 in c:\\users\\flore\\openclassrooms\\projet 10\\envp10\\lib\\site-packages (from scikit-surprise) (1.5.0)\n",
      "Requirement already satisfied: numpy>=1.19.5 in c:\\users\\flore\\openclassrooms\\projet 10\\envp10\\lib\\site-packages (from scikit-surprise) (1.26.4)\n",
      "Requirement already satisfied: scipy>=1.6.0 in c:\\users\\flore\\openclassrooms\\projet 10\\envp10\\lib\\site-packages (from scikit-surprise) (1.15.2)\n"
     ]
    }
   ],
   "source": [
    "!pip install scikit-surprise"
   ]
  },
  {
   "cell_type": "code",
   "execution_count": 4,
   "id": "b632a7b5-e7e0-464e-9c32-c7e440e80386",
   "metadata": {},
   "outputs": [],
   "source": [
    "# Manipulation et Analyse de Données\n",
    "import numpy as np\n",
    "import pandas as pd\n",
    "from collections import defaultdict\n",
    "\n",
    "# Visualisation de Données\n",
    "import matplotlib.pyplot as plt\n",
    "import missingno as msno\n",
    "import mlflow\n",
    "\n",
    "# Barre de Progression\n",
    "import progressbar\n",
    "from tqdm import tqdm\n",
    "\n",
    "\n",
    "# Gestion du Système d'Exploitation\n",
    "import os\n",
    "import json\n",
    "\n",
    "\n",
    "# Librairie Surprise (Systèmes de Recommandation)\n",
    "from surprise import Reader, Dataset\n",
    "# from surprise.model_selection import train_test_split, cross_validate\n",
    "from surprise.model_selection import GridSearchCV\n",
    "from surprise import KNNBasic\n",
    "from surprise import SVD\n",
    "from surprise import Dataset, Reader\n",
    "\n",
    "\n",
    "# Métriques de Similarité (Scikit-learn)\n",
    "from sklearn.metrics.pairwise import linear_kernel\n",
    "from sklearn.metrics.pairwise import cosine_similarity\n",
    "from sklearn.model_selection import train_test_split\n",
    "\n",
    "# Génération de Nombres Aléatoires\n",
    "import random"
   ]
  },
  {
   "cell_type": "code",
   "execution_count": 5,
   "id": "054fbf1e-982f-49b6-8627-ffda82833fa3",
   "metadata": {
    "scrolled": true
   },
   "outputs": [
    {
     "name": "stdout",
     "output_type": "stream",
     "text": [
      "alembic==1.15.2\n",
      "annotated-types==0.7.0\n",
      "anyio==4.9.0\n",
      "argon2-cffi==23.1.0\n",
      "argon2-cffi-bindings==21.2.0\n",
      "arrow==1.3.0\n",
      "asttokens==3.0.0\n",
      "async-lru==2.0.5\n",
      "attrs==25.3.0\n",
      "babel==2.17.0\n",
      "beautifulsoup4==4.13.4\n",
      "bleach==6.2.0\n",
      "blinker==1.9.0\n",
      "cachetools==5.5.2\n",
      "certifi==2025.4.26\n",
      "cffi==1.17.1\n",
      "charset-normalizer==3.4.2\n",
      "click==8.2.0\n",
      "cloudpickle==3.1.1\n",
      "colorama==0.4.6\n",
      "comm==0.2.2\n",
      "contourpy==1.3.2\n",
      "cycler==0.12.1\n",
      "databricks-sdk==0.53.0\n",
      "debugpy==1.8.14\n",
      "decorator==5.2.1\n",
      "defusedxml==0.7.1\n",
      "Deprecated==1.2.18\n",
      "docker==7.1.0\n",
      "executing==2.2.0\n",
      "fastapi==0.115.12\n",
      "fastjsonschema==2.21.1\n",
      "Flask==3.1.1\n",
      "fonttools==4.57.0\n",
      "fqdn==1.5.1\n",
      "gitdb==4.0.12\n",
      "GitPython==3.1.44\n",
      "google-auth==2.40.1\n",
      "graphene==3.4.3\n",
      "graphql-core==3.2.6\n",
      "graphql-relay==3.2.0\n",
      "greenlet==3.2.2\n",
      "h11==0.16.0\n",
      "httpcore==1.0.9\n",
      "httpx==0.28.1\n",
      "idna==3.10\n",
      "importlib_metadata==8.6.1\n",
      "ipykernel==6.29.5\n",
      "ipython==9.2.0\n",
      "ipython_pygments_lexers==1.1.1\n",
      "ipywidgets==8.1.7\n",
      "isoduration==20.11.0\n",
      "itsdangerous==2.2.0\n",
      "jedi==0.19.2\n",
      "Jinja2==3.1.6\n",
      "joblib==1.5.0\n",
      "json5==0.12.0\n",
      "jsonpointer==3.0.0\n",
      "jsonschema==4.23.0\n",
      "jsonschema-specifications==2025.4.1\n",
      "jupyter==1.1.1\n",
      "jupyter-console==6.6.3\n",
      "jupyter-events==0.12.0\n",
      "jupyter-lsp==2.2.5\n",
      "jupyter_client==8.6.3\n",
      "jupyter_core==5.7.2\n",
      "jupyter_server==2.15.0\n",
      "jupyter_server_terminals==0.5.3\n",
      "jupyterlab==4.4.2\n",
      "jupyterlab_pygments==0.3.0\n",
      "jupyterlab_server==2.27.3\n",
      "jupyterlab_widgets==3.0.15\n",
      "kiwisolver==1.4.8\n",
      "Mako==1.3.10\n",
      "Markdown==3.8\n",
      "MarkupSafe==3.0.2\n",
      "matplotlib==3.10.1\n",
      "matplotlib-inline==0.1.7\n",
      "missingno==0.5.2\n",
      "mistune==3.1.3\n",
      "mlflow==2.22.0\n",
      "mlflow-skinny==2.22.0\n",
      "nbclient==0.10.2\n",
      "nbconvert==7.16.6\n",
      "nbformat==5.10.4\n",
      "nest-asyncio==1.6.0\n",
      "notebook==7.4.2\n",
      "notebook_shim==0.2.4\n",
      "numpy==1.26.4\n",
      "opentelemetry-api==1.33.0\n",
      "opentelemetry-sdk==1.33.0\n",
      "opentelemetry-semantic-conventions==0.54b0\n",
      "overrides==7.7.0\n",
      "packaging==24.2\n",
      "pandas==2.2.3\n",
      "pandocfilters==1.5.1\n",
      "parso==0.8.4\n",
      "pillow==11.2.1\n",
      "platformdirs==4.3.7\n",
      "progressbar==2.5\n",
      "prometheus_client==0.21.1\n",
      "prompt_toolkit==3.0.51\n",
      "protobuf==6.31.0\n",
      "psutil==7.0.0\n",
      "pure_eval==0.2.3\n",
      "pyarrow==19.0.1\n",
      "pyasn1==0.6.1\n",
      "pyasn1_modules==0.4.2\n",
      "pycparser==2.22\n",
      "pydantic==2.11.4\n",
      "pydantic_core==2.33.2\n",
      "Pygments==2.19.1\n",
      "pyparsing==3.2.3\n",
      "python-dateutil==2.9.0.post0\n",
      "python-json-logger==3.3.0\n",
      "pytz==2025.2\n",
      "pywin32==310\n",
      "pywinpty==2.0.15\n",
      "PyYAML==6.0.2\n",
      "pyzmq==26.4.0\n",
      "referencing==0.36.2\n",
      "requests==2.32.3\n",
      "rfc3339-validator==0.1.4\n",
      "rfc3986-validator==0.1.1\n",
      "rpds-py==0.24.0\n",
      "rsa==4.9.1\n",
      "scikit-learn==1.6.1\n",
      "scikit-surprise==1.1.4\n",
      "scipy==1.15.2\n",
      "seaborn==0.13.2\n",
      "Send2Trash==1.8.3\n",
      "setuptools==80.3.1\n",
      "six==1.17.0\n",
      "smmap==5.0.2\n",
      "sniffio==1.3.1\n",
      "soupsieve==2.7\n",
      "SQLAlchemy==2.0.41\n",
      "sqlparse==0.5.3\n",
      "stack-data==0.6.3\n",
      "starlette==0.46.2\n",
      "surprise==0.1\n",
      "terminado==0.18.1\n",
      "threadpoolctl==3.6.0\n",
      "tinycss2==1.4.0\n",
      "tornado==6.4.2\n",
      "tqdm==4.67.1\n",
      "traitlets==5.14.3\n",
      "types-python-dateutil==2.9.0.20241206\n",
      "typing-inspection==0.4.0\n",
      "typing_extensions==4.13.2\n",
      "tzdata==2025.2\n",
      "uri-template==1.3.0\n",
      "urllib3==2.4.0\n",
      "uvicorn==0.34.2\n",
      "waitress==3.0.2\n",
      "wcwidth==0.2.13\n",
      "webcolors==24.11.1\n",
      "webencodings==0.5.1\n",
      "websocket-client==1.8.0\n",
      "Werkzeug==3.1.3\n",
      "widgetsnbextension==4.0.14\n",
      "wrapt==1.17.2\n",
      "zipp==3.21.0\n",
      "Note: you may need to restart the kernel to use updated packages.\n"
     ]
    }
   ],
   "source": [
    "pip freeze"
   ]
  },
  {
   "cell_type": "markdown",
   "id": "6b656dbc-3b44-49e5-aeea-e54c8a8e272c",
   "metadata": {},
   "source": [
    "## 1.2 Data"
   ]
  },
  {
   "cell_type": "code",
   "execution_count": 6,
   "id": "7baafd7a-fada-4127-9b57-469a40dab885",
   "metadata": {},
   "outputs": [
    {
     "data": {
      "text/plain": [
       "<Experiment: artifact_location='file:///C:/Users/flore/Openclassrooms/Projet%2010/mlruns/105242366599690493', creation_time=1747411180989, experiment_id='105242366599690493', last_update_time=1747411180989, lifecycle_stage='active', name='articles_recommendation', tags={}>"
      ]
     },
     "execution_count": 6,
     "metadata": {},
     "output_type": "execute_result"
    }
   ],
   "source": [
    "# On définit le nom de l'experience MLflow\n",
    "mlflow.set_experiment(\"articles_recommendation\")"
   ]
  },
  {
   "cell_type": "code",
   "execution_count": 7,
   "id": "a170d498-a8c8-4849-b353-fa25753fb940",
   "metadata": {
    "scrolled": true
   },
   "outputs": [],
   "source": [
    "directory = 'C:/Users/flore/Openclassrooms/Projet 10/inputs/'\n",
    "filename = \"articles_metadata.csv\"\n",
    "path = os.path.join(directory, filename)\n",
    "\n",
    "articles_metadata = pd.read_csv(path, decimal=\".\", low_memory=False)"
   ]
  },
  {
   "cell_type": "code",
   "execution_count": 8,
   "id": "ca9fa8d4-8a22-419b-91f5-db1682d5192e",
   "metadata": {},
   "outputs": [],
   "source": [
    "filename = \"articles_embeddings.pickle\"\n",
    "path = os.path.join(directory, filename)\n",
    "embeddings = pd.read_pickle(path)"
   ]
  },
  {
   "cell_type": "code",
   "execution_count": 9,
   "id": "2acf1129-3cef-481a-88f8-e62a26a6378c",
   "metadata": {},
   "outputs": [],
   "source": [
    "directory = 'C:/Users/flore/Openclassrooms/Projet 10/inputs/clicks'\n",
    "filename = \"clicks_hour_087.csv\"\n",
    "path = os.path.join(directory, filename)\n",
    "\n",
    "clicks_hour_087 = pd.read_csv(path, decimal=\".\", low_memory=False)"
   ]
  },
  {
   "cell_type": "markdown",
   "id": "86fc3760-e636-40fa-861e-f304b554dd26",
   "metadata": {},
   "source": [
    "## 1.3 Fonctions"
   ]
  },
  {
   "cell_type": "code",
   "execution_count": 10,
   "id": "ed69d0c3-7ede-4aa7-870b-bb1550408731",
   "metadata": {},
   "outputs": [],
   "source": [
    "def mean_similarity_score(recommender, user_history, recommendations):\n",
    "    \"\"\"\n",
    "    Évalue la moyenne des similarités entre les articles recommandés et l'historique utilisateur.\n",
    "    \"\"\"\n",
    "    sim_matrix = recommender.similarity_matrix\n",
    "    \n",
    "    # Ne garder que les similarités entre les recommandations et l'historique\n",
    "    scores = []\n",
    "    for rec in recommendations['click_article_id']:\n",
    "        for hist in user_history:\n",
    "            if rec in sim_matrix.columns and hist in sim_matrix.index:\n",
    "                scores.append(sim_matrix.at[hist, rec])\n",
    "\n",
    "    # print(\"Nb colonnes dans sim_matrix :\", len(sim_matrix.columns))\n",
    "    # print(\"Quelques IDs dans sim_matrix :\", list(sim_matrix.columns[:5]))\n",
    "    \n",
    "    # print(\"Quelques articles recommandés :\", recommendations_df['click_article_id'].tolist())\n",
    "    # print(\"Articles recommandés présents dans article_embeddings :\", [aid for aid in recommendations_df['click_article_id'] if aid in article_embeddings])\n",
    "    return np.mean(scores) if scores else \"erreur\""
   ]
  },
  {
   "cell_type": "markdown",
   "id": "96843a55-e433-4c67-8b2a-11f36118b658",
   "metadata": {},
   "source": [
    "Fonction d’interface intermédiaire compatible avec evaluate_precision_recall_at_k, qui transforme user_id + train_articles en un vecteur utilisateur, puis appelle recommend_articles."
   ]
  },
  {
   "cell_type": "code",
   "execution_count": 11,
   "id": "1d17e671-3538-4cdc-819c-d6ad1a0dd784",
   "metadata": {},
   "outputs": [],
   "source": [
    "def recommendations_fn(user_id, train_articles, k):\n",
    "    \"\"\"\n",
    "    Génère une liste de recommandations d'articles pour un utilisateur donné,\n",
    "    en se basant sur les articles qu'il a lus (train_articles) via un filtrage basé sur le contenu.\n",
    "\n",
    "    Paramètres :\n",
    "    ----------\n",
    "    user_id : str or int\n",
    "        L'identifiant de l'utilisateur.\n",
    "    train_articles : list\n",
    "        La liste des IDs des articles cliqués par l'utilisateur (hors test).\n",
    "    k : int\n",
    "        Le nombre de recommandations à retourner.\n",
    "\n",
    "    Retour :\n",
    "    -------\n",
    "    list\n",
    "        Une liste des k articles recommandés (article_id), triés par similarité décroissante.\n",
    "    \"\"\"\n",
    "    \n",
    "    # Moyenne des embeddings des articles cliqués (train_articles)\n",
    "    vectors = [article_embeddings[aid] for aid in train_articles if aid in article_embeddings]\n",
    "    if not vectors:\n",
    "        return []  # Aucun article recommandable\n",
    "    user_vector = np.mean(vectors, axis=0)\n",
    "\n",
    "    # Appel à ta fonction existante\n",
    "    recommended = recommend_articles(user_vector, article_embeddings, top_k=k)\n",
    "    return [aid for aid, _ in recommended]"
   ]
  },
  {
   "cell_type": "code",
   "execution_count": 12,
   "id": "009b2928-a9eb-43fb-9cf6-6bee848723bd",
   "metadata": {},
   "outputs": [],
   "source": [
    "def evaluate_precision_recall_at_k(clicks_df, get_user_profile_fn, article_embeddings, k=5, n_users=100):\n",
    "\n",
    "    \"\"\"\n",
    "    Évalue Precision@K et Recall@K pour un système de recommandation.\n",
    "\n",
    "    Args:\n",
    "        clicks_df (pd.DataFrame): dataframe contenant 'user_id' et 'click_article_id'.\n",
    "        recommendations_fn (function): fonction qui prend user_id et retourne top-K articles recommandés.\n",
    "        k (int): nombre de recommandations à évaluer.\n",
    "\n",
    "    Returns:\n",
    "        dict: Moyenne des métriques 'precision' et 'recall'.\n",
    "    \"\"\"\n",
    "    sampled_users = clicks_df[\"user_id\"].drop_duplicates().sample(n=n_users, random_state=42)\n",
    "    hits, total_relevant, total_recommended = 0, 0, 0\n",
    "\n",
    "    for user_id in sampled_users:\n",
    "        user_clicks = clicks_df[clicks_df[\"user_id\"] == user_id][\"click_article_id\"].tolist()\n",
    "        if len(user_clicks) < 2:\n",
    "            continue  # Pas assez d'historique pour train/test split\n",
    "\n",
    "        train_articles = user_clicks[:-1]\n",
    "        test_article = user_clicks[-1]\n",
    "\n",
    "        temp_df = pd.DataFrame({\"user_id\": [user_id] * len(train_articles), \"click_article_id\": train_articles, \"click_timestamp\": 1})\n",
    "        user_vector = get_user_profile_fn(user_id, temp_df, article_embeddings)\n",
    "        recommended = recommend_articles(user_vector, article_embeddings, top_k=k)\n",
    "\n",
    "        if test_article in recommended:\n",
    "            hits += 1\n",
    "        total_relevant += 1\n",
    "        total_recommended += k\n",
    "\n",
    "    precision = hits / total_recommended if total_recommended > 0 else 0\n",
    "    recall = hits / total_relevant if total_relevant > 0 else 0\n",
    "    return precision, recall"
   ]
  },
  {
   "cell_type": "markdown",
   "id": "ff640b43-c0d7-4743-b26f-d89a88596707",
   "metadata": {},
   "source": [
    "## 1.4 Class"
   ]
  },
  {
   "cell_type": "code",
   "execution_count": 13,
   "id": "581dac90-e644-4ed8-b212-87a01807fb1e",
   "metadata": {},
   "outputs": [],
   "source": [
    "class ModelEvaluator:\n",
    "    def __init__(self, train_df, test_df, k_list=[5, 10]):\n",
    "        self.train_df = train_df\n",
    "        self.test_df = test_df\n",
    "        self.k_list = k_list\n",
    "\n",
    "    def get_items_seen_by_user(self, df, user_id):\n",
    "        return df[df['user_id'] == user_id]['click_article_id'].astype(int).tolist()\n",
    "\n",
    "    def evaluate_model(self, model):\n",
    "        results = {f'recall@{k}': [] for k in self.k_list}\n",
    "        results.update({f'precision@{k}': [] for k in self.k_list})\n",
    "        users = self.test_df['user_id'].unique()\n",
    "\n",
    "        for user_id in tqdm(users, desc=\"Évaluation du modèle\"):\n",
    "            seen_train = self.get_items_seen_by_user(self.train_df, user_id)\n",
    "            seen_test = self.get_items_seen_by_user(self.test_df, user_id)\n",
    "\n",
    "            if not seen_test: # Évaluer uniquement s'il y a des interactions dans le test\n",
    "                continue\n",
    "\n",
    "            recommendations_df = model.recommend_items(user_id, items_to_ignore=seen_train, topn=max(self.k_list))\n",
    "            recommended_items = [int(i) for i in recommendations_df['click_article_id'].tolist()]\n",
    "\n",
    "            for k in self.k_list:\n",
    "                recommended_k = recommended_items[:k]\n",
    "                hits = len(set(recommended_k) & set(seen_test))\n",
    "                recall = hits / len(seen_test) if seen_test else 0.0\n",
    "                precision = hits / k if recommended_k else 0.0\n",
    "\n",
    "                results[f'recall@{k}'].append(recall)\n",
    "                results[f'precision@{k}'].append(precision)\n",
    "\n",
    "        final_scores = {\n",
    "            metric: round(sum(scores)/len(scores), 4) if scores else 0.0\n",
    "            for metric, scores in results.items()\n",
    "        }\n",
    "        final_scores['modelName'] = model.get_model_name()\n",
    "        return final_scores"
   ]
  },
  {
   "cell_type": "code",
   "execution_count": 14,
   "id": "3fade888-8c78-472b-8744-ae6c879eba61",
   "metadata": {},
   "outputs": [],
   "source": [
    "    class ContentBasedRecommender:\n",
    "        def __init__(self, article_features: pd.DataFrame):\n",
    "            \"\"\"\n",
    "            article_features: DataFrame indexé par article_id, colonnes = features\n",
    "            \"\"\"\n",
    "            # Pré-calcul de la matrice de similarité article-article\n",
    "            self.article_features = article_features\n",
    "            self.article_ids = article_features.index.tolist()\n",
    "            self.similarity_matrix = pd.DataFrame(\n",
    "                cosine_similarity(article_features),\n",
    "                index=self.article_ids,\n",
    "                columns=self.article_ids\n",
    "            )\n",
    "    \n",
    "        def get_model_name(self):\n",
    "            return \"ContentBasedRecommender\"\n",
    "    \n",
    "        def recommend_items(self, user_id, items_to_ignore=None, topn=10, user_history=None):\n",
    "            if user_history is None or len(user_history) == 0:\n",
    "                return pd.DataFrame(columns=['click_article_id', 'score'])\n",
    "        \n",
    "            # Normalisation des types d’IDs\n",
    "            user_history = [int(i) for i in user_history]\n",
    "            if items_to_ignore:\n",
    "                items_to_ignore = [int(i) for i in items_to_ignore]\n",
    "        \n",
    "            # Agrégation des similarités\n",
    "            similar_scores = self.similarity_matrix.loc[user_history].mean(axis=0)\n",
    "        \n",
    "            # if items_to_ignore:\n",
    "            #     similar_scores = similar_scores.drop(index=items_to_ignore, errors='ignore')\n",
    "        \n",
    "            top_recs = similar_scores.sort_values(ascending=False).head(topn)\n",
    "        \n",
    "            return pd.DataFrame({\n",
    "                'click_article_id': top_recs.index.astype(int), \n",
    "                'score': top_recs.values\n",
    "            })"
   ]
  },
  {
   "cell_type": "markdown",
   "id": "8407f719-c5c9-4eeb-a9fc-a301774508a2",
   "metadata": {},
   "source": [
    "# 2. Quick Tour"
   ]
  },
  {
   "cell_type": "markdown",
   "id": "ce74e7f5-b71c-4fc9-bacd-4d57e85e9345",
   "metadata": {},
   "source": [
    "Nous allons avoir 3 types de fichiers à explorer:\n",
    "\n",
    "* **clicks.csv** (somme de tous les fichiers clicks_xxx.csv)\n",
    "Données d’interactions utilisateur-article.\n",
    "= Cœur du système de recommandation pour les deux approches. \n",
    "Colonne clé : click_article_id (équivaut à l’article_id ailleurs).\n",
    "Colonnes utiles :\n",
    "> * user_id : identifie l’utilisateur.\n",
    "> * click_article_id : identifie l’article consulté.\n",
    "> * click_timestamp : permet d’ordonner les clics → utile pour validation temporelle.\n",
    "\n",
    "* **articles_metadata.csv**\n",
    "Métadonnées utiles (type TF, IDF, analyse catégorie, durée de lecture…).\n",
    "Sert surtout à enrichir les modèles content-based classiques (par ex., TF-IDF sur category_id, clustering des words_count).\n",
    "Clé : article_id.\n",
    "\n",
    "* **articles_embeddings.pickle**\n",
    "Embeddings vectoriels de dimension 250, un vecteur par article.\n",
    "Ordre implicite semble correspondre à article_id trié.\n",
    "Mais pas encore de mapping direct explicite avec les article_id.\n",
    " Sert au Content-Based Filtering vectoriel, via cosine similarity.\n",
    "On va devoir créer une correspondance {article_id ↔ index} à partir de articles_metadata trié par article_id."
   ]
  },
  {
   "cell_type": "code",
   "execution_count": 15,
   "id": "02a76701-7a8a-4ae0-8e2d-e918357ae081",
   "metadata": {},
   "outputs": [
    {
     "data": {
      "text/html": [
       "<div>\n",
       "<style scoped>\n",
       "    .dataframe tbody tr th:only-of-type {\n",
       "        vertical-align: middle;\n",
       "    }\n",
       "\n",
       "    .dataframe tbody tr th {\n",
       "        vertical-align: top;\n",
       "    }\n",
       "\n",
       "    .dataframe thead th {\n",
       "        text-align: right;\n",
       "    }\n",
       "</style>\n",
       "<table border=\"1\" class=\"dataframe\">\n",
       "  <thead>\n",
       "    <tr style=\"text-align: right;\">\n",
       "      <th></th>\n",
       "      <th>article_id</th>\n",
       "      <th>category_id</th>\n",
       "      <th>created_at_ts</th>\n",
       "      <th>publisher_id</th>\n",
       "      <th>words_count</th>\n",
       "    </tr>\n",
       "  </thead>\n",
       "  <tbody>\n",
       "    <tr>\n",
       "      <th>0</th>\n",
       "      <td>0</td>\n",
       "      <td>0</td>\n",
       "      <td>1513144419000</td>\n",
       "      <td>0</td>\n",
       "      <td>168</td>\n",
       "    </tr>\n",
       "    <tr>\n",
       "      <th>1</th>\n",
       "      <td>1</td>\n",
       "      <td>1</td>\n",
       "      <td>1405341936000</td>\n",
       "      <td>0</td>\n",
       "      <td>189</td>\n",
       "    </tr>\n",
       "    <tr>\n",
       "      <th>2</th>\n",
       "      <td>2</td>\n",
       "      <td>1</td>\n",
       "      <td>1408667706000</td>\n",
       "      <td>0</td>\n",
       "      <td>250</td>\n",
       "    </tr>\n",
       "    <tr>\n",
       "      <th>3</th>\n",
       "      <td>3</td>\n",
       "      <td>1</td>\n",
       "      <td>1408468313000</td>\n",
       "      <td>0</td>\n",
       "      <td>230</td>\n",
       "    </tr>\n",
       "    <tr>\n",
       "      <th>4</th>\n",
       "      <td>4</td>\n",
       "      <td>1</td>\n",
       "      <td>1407071171000</td>\n",
       "      <td>0</td>\n",
       "      <td>162</td>\n",
       "    </tr>\n",
       "  </tbody>\n",
       "</table>\n",
       "</div>"
      ],
      "text/plain": [
       "   article_id  category_id  created_at_ts  publisher_id  words_count\n",
       "0           0            0  1513144419000             0          168\n",
       "1           1            1  1405341936000             0          189\n",
       "2           2            1  1408667706000             0          250\n",
       "3           3            1  1408468313000             0          230\n",
       "4           4            1  1407071171000             0          162"
      ]
     },
     "execution_count": 15,
     "metadata": {},
     "output_type": "execute_result"
    }
   ],
   "source": [
    "articles_metadata.head()"
   ]
  },
  {
   "cell_type": "code",
   "execution_count": 16,
   "id": "49e0d50b-2fae-4fce-a0ad-831cdcdfb395",
   "metadata": {},
   "outputs": [
    {
     "data": {
      "text/html": [
       "<div>\n",
       "<style scoped>\n",
       "    .dataframe tbody tr th:only-of-type {\n",
       "        vertical-align: middle;\n",
       "    }\n",
       "\n",
       "    .dataframe tbody tr th {\n",
       "        vertical-align: top;\n",
       "    }\n",
       "\n",
       "    .dataframe thead th {\n",
       "        text-align: right;\n",
       "    }\n",
       "</style>\n",
       "<table border=\"1\" class=\"dataframe\">\n",
       "  <thead>\n",
       "    <tr style=\"text-align: right;\">\n",
       "      <th></th>\n",
       "      <th>article_id</th>\n",
       "      <th>category_id</th>\n",
       "      <th>created_at_ts</th>\n",
       "      <th>publisher_id</th>\n",
       "      <th>words_count</th>\n",
       "    </tr>\n",
       "  </thead>\n",
       "  <tbody>\n",
       "    <tr>\n",
       "      <th>count</th>\n",
       "      <td>364047.000000</td>\n",
       "      <td>364047.000000</td>\n",
       "      <td>3.640470e+05</td>\n",
       "      <td>364047.0</td>\n",
       "      <td>364047.000000</td>\n",
       "    </tr>\n",
       "    <tr>\n",
       "      <th>mean</th>\n",
       "      <td>182023.000000</td>\n",
       "      <td>283.108239</td>\n",
       "      <td>1.474070e+12</td>\n",
       "      <td>0.0</td>\n",
       "      <td>190.897727</td>\n",
       "    </tr>\n",
       "    <tr>\n",
       "      <th>std</th>\n",
       "      <td>105091.461061</td>\n",
       "      <td>136.723470</td>\n",
       "      <td>4.293038e+10</td>\n",
       "      <td>0.0</td>\n",
       "      <td>59.502766</td>\n",
       "    </tr>\n",
       "    <tr>\n",
       "      <th>min</th>\n",
       "      <td>0.000000</td>\n",
       "      <td>0.000000</td>\n",
       "      <td>1.159356e+12</td>\n",
       "      <td>0.0</td>\n",
       "      <td>0.000000</td>\n",
       "    </tr>\n",
       "    <tr>\n",
       "      <th>25%</th>\n",
       "      <td>91011.500000</td>\n",
       "      <td>199.000000</td>\n",
       "      <td>1.444925e+12</td>\n",
       "      <td>0.0</td>\n",
       "      <td>159.000000</td>\n",
       "    </tr>\n",
       "    <tr>\n",
       "      <th>50%</th>\n",
       "      <td>182023.000000</td>\n",
       "      <td>301.000000</td>\n",
       "      <td>1.489422e+12</td>\n",
       "      <td>0.0</td>\n",
       "      <td>186.000000</td>\n",
       "    </tr>\n",
       "    <tr>\n",
       "      <th>75%</th>\n",
       "      <td>273034.500000</td>\n",
       "      <td>399.000000</td>\n",
       "      <td>1.509891e+12</td>\n",
       "      <td>0.0</td>\n",
       "      <td>218.000000</td>\n",
       "    </tr>\n",
       "    <tr>\n",
       "      <th>max</th>\n",
       "      <td>364046.000000</td>\n",
       "      <td>460.000000</td>\n",
       "      <td>1.520943e+12</td>\n",
       "      <td>0.0</td>\n",
       "      <td>6690.000000</td>\n",
       "    </tr>\n",
       "  </tbody>\n",
       "</table>\n",
       "</div>"
      ],
      "text/plain": [
       "          article_id    category_id  created_at_ts  publisher_id  \\\n",
       "count  364047.000000  364047.000000   3.640470e+05      364047.0   \n",
       "mean   182023.000000     283.108239   1.474070e+12           0.0   \n",
       "std    105091.461061     136.723470   4.293038e+10           0.0   \n",
       "min         0.000000       0.000000   1.159356e+12           0.0   \n",
       "25%     91011.500000     199.000000   1.444925e+12           0.0   \n",
       "50%    182023.000000     301.000000   1.489422e+12           0.0   \n",
       "75%    273034.500000     399.000000   1.509891e+12           0.0   \n",
       "max    364046.000000     460.000000   1.520943e+12           0.0   \n",
       "\n",
       "         words_count  \n",
       "count  364047.000000  \n",
       "mean      190.897727  \n",
       "std        59.502766  \n",
       "min         0.000000  \n",
       "25%       159.000000  \n",
       "50%       186.000000  \n",
       "75%       218.000000  \n",
       "max      6690.000000  "
      ]
     },
     "execution_count": 16,
     "metadata": {},
     "output_type": "execute_result"
    }
   ],
   "source": [
    "articles_metadata.describe()"
   ]
  },
  {
   "cell_type": "code",
   "execution_count": 17,
   "id": "13c8cef9-173c-4afe-859a-c24513ffbe97",
   "metadata": {},
   "outputs": [
    {
     "data": {
      "image/png": "[encoded data removed]",
      "text/plain": [
       "<Figure size 2500x1000 with 3 Axes>"
      ]
     },
     "metadata": {},
     "output_type": "display_data"
    }
   ],
   "source": [
    "# Affichage du bar plot montrant le nombre de valeurs présentes et manquantes pour chaque colonne.\n",
    "msno.bar(articles_metadata)\n",
    "plt.show()"
   ]
  },
  {
   "cell_type": "code",
   "execution_count": 18,
   "id": "d8df131a-8d4d-48ca-b2aa-7c9291892f22",
   "metadata": {},
   "outputs": [
    {
     "data": {
      "image/png": "[encoded data removed]",
      "text/plain": [
       "<Figure size 640x480 with 1 Axes>"
      ]
     },
     "metadata": {},
     "output_type": "display_data"
    }
   ],
   "source": [
    "articles_metadata.words_count.hist(bins=50, range=(0,400))\n",
    "plt.title('How many words per article');"
   ]
  },
  {
   "cell_type": "code",
   "execution_count": 19,
   "id": "2b7dc20e-ba6b-421a-b01b-036d70c86db5",
   "metadata": {},
   "outputs": [
    {
     "data": {
      "text/html": [
       "<div>\n",
       "<style scoped>\n",
       "    .dataframe tbody tr th:only-of-type {\n",
       "        vertical-align: middle;\n",
       "    }\n",
       "\n",
       "    .dataframe tbody tr th {\n",
       "        vertical-align: top;\n",
       "    }\n",
       "\n",
       "    .dataframe thead th {\n",
       "        text-align: right;\n",
       "    }\n",
       "</style>\n",
       "<table border=\"1\" class=\"dataframe\">\n",
       "  <thead>\n",
       "    <tr style=\"text-align: right;\">\n",
       "      <th></th>\n",
       "      <th>user_id</th>\n",
       "      <th>session_id</th>\n",
       "      <th>session_start</th>\n",
       "      <th>session_size</th>\n",
       "      <th>click_article_id</th>\n",
       "      <th>click_timestamp</th>\n",
       "      <th>click_environment</th>\n",
       "      <th>click_deviceGroup</th>\n",
       "      <th>click_os</th>\n",
       "      <th>click_country</th>\n",
       "      <th>click_region</th>\n",
       "      <th>click_referrer_type</th>\n",
       "    </tr>\n",
       "  </thead>\n",
       "  <tbody>\n",
       "    <tr>\n",
       "      <th>0</th>\n",
       "      <td>57906</td>\n",
       "      <td>1507138581309087</td>\n",
       "      <td>1507138581000</td>\n",
       "      <td>2</td>\n",
       "      <td>47436</td>\n",
       "      <td>1507138584366</td>\n",
       "      <td>4</td>\n",
       "      <td>1</td>\n",
       "      <td>17</td>\n",
       "      <td>1</td>\n",
       "      <td>8</td>\n",
       "      <td>5</td>\n",
       "    </tr>\n",
       "    <tr>\n",
       "      <th>1</th>\n",
       "      <td>57906</td>\n",
       "      <td>1507138581309087</td>\n",
       "      <td>1507138581000</td>\n",
       "      <td>2</td>\n",
       "      <td>46180</td>\n",
       "      <td>1507138614366</td>\n",
       "      <td>4</td>\n",
       "      <td>1</td>\n",
       "      <td>17</td>\n",
       "      <td>1</td>\n",
       "      <td>8</td>\n",
       "      <td>5</td>\n",
       "    </tr>\n",
       "    <tr>\n",
       "      <th>2</th>\n",
       "      <td>132485</td>\n",
       "      <td>1507138583133088</td>\n",
       "      <td>1507138583000</td>\n",
       "      <td>7</td>\n",
       "      <td>129305</td>\n",
       "      <td>1507138628124</td>\n",
       "      <td>4</td>\n",
       "      <td>1</td>\n",
       "      <td>17</td>\n",
       "      <td>1</td>\n",
       "      <td>8</td>\n",
       "      <td>1</td>\n",
       "    </tr>\n",
       "    <tr>\n",
       "      <th>3</th>\n",
       "      <td>132485</td>\n",
       "      <td>1507138583133088</td>\n",
       "      <td>1507138583000</td>\n",
       "      <td>7</td>\n",
       "      <td>206112</td>\n",
       "      <td>1507138677588</td>\n",
       "      <td>4</td>\n",
       "      <td>1</td>\n",
       "      <td>17</td>\n",
       "      <td>1</td>\n",
       "      <td>8</td>\n",
       "      <td>1</td>\n",
       "    </tr>\n",
       "    <tr>\n",
       "      <th>4</th>\n",
       "      <td>132485</td>\n",
       "      <td>1507138583133088</td>\n",
       "      <td>1507138583000</td>\n",
       "      <td>7</td>\n",
       "      <td>166462</td>\n",
       "      <td>1507138707110</td>\n",
       "      <td>4</td>\n",
       "      <td>1</td>\n",
       "      <td>17</td>\n",
       "      <td>1</td>\n",
       "      <td>8</td>\n",
       "      <td>1</td>\n",
       "    </tr>\n",
       "    <tr>\n",
       "      <th>...</th>\n",
       "      <td>...</td>\n",
       "      <td>...</td>\n",
       "      <td>...</td>\n",
       "      <td>...</td>\n",
       "      <td>...</td>\n",
       "      <td>...</td>\n",
       "      <td>...</td>\n",
       "      <td>...</td>\n",
       "      <td>...</td>\n",
       "      <td>...</td>\n",
       "      <td>...</td>\n",
       "      <td>...</td>\n",
       "    </tr>\n",
       "    <tr>\n",
       "      <th>14614</th>\n",
       "      <td>166393</td>\n",
       "      <td>1507142178379230</td>\n",
       "      <td>1507142178000</td>\n",
       "      <td>2</td>\n",
       "      <td>226681</td>\n",
       "      <td>1507142178636</td>\n",
       "      <td>2</td>\n",
       "      <td>3</td>\n",
       "      <td>20</td>\n",
       "      <td>1</td>\n",
       "      <td>5</td>\n",
       "      <td>7</td>\n",
       "    </tr>\n",
       "    <tr>\n",
       "      <th>14615</th>\n",
       "      <td>166393</td>\n",
       "      <td>1507142178379230</td>\n",
       "      <td>1507142178000</td>\n",
       "      <td>2</td>\n",
       "      <td>206730</td>\n",
       "      <td>1507142208636</td>\n",
       "      <td>2</td>\n",
       "      <td>3</td>\n",
       "      <td>20</td>\n",
       "      <td>1</td>\n",
       "      <td>5</td>\n",
       "      <td>7</td>\n",
       "    </tr>\n",
       "    <tr>\n",
       "      <th>14616</th>\n",
       "      <td>84161</td>\n",
       "      <td>1507142179142231</td>\n",
       "      <td>1507142179000</td>\n",
       "      <td>3</td>\n",
       "      <td>166462</td>\n",
       "      <td>1507142225147</td>\n",
       "      <td>4</td>\n",
       "      <td>1</td>\n",
       "      <td>17</td>\n",
       "      <td>1</td>\n",
       "      <td>25</td>\n",
       "      <td>1</td>\n",
       "    </tr>\n",
       "    <tr>\n",
       "      <th>14617</th>\n",
       "      <td>84161</td>\n",
       "      <td>1507142179142231</td>\n",
       "      <td>1507142179000</td>\n",
       "      <td>3</td>\n",
       "      <td>159762</td>\n",
       "      <td>1507142474081</td>\n",
       "      <td>4</td>\n",
       "      <td>1</td>\n",
       "      <td>17</td>\n",
       "      <td>1</td>\n",
       "      <td>25</td>\n",
       "      <td>1</td>\n",
       "    </tr>\n",
       "    <tr>\n",
       "      <th>14618</th>\n",
       "      <td>84161</td>\n",
       "      <td>1507142179142231</td>\n",
       "      <td>1507142179000</td>\n",
       "      <td>3</td>\n",
       "      <td>257291</td>\n",
       "      <td>1507142504081</td>\n",
       "      <td>4</td>\n",
       "      <td>1</td>\n",
       "      <td>17</td>\n",
       "      <td>1</td>\n",
       "      <td>25</td>\n",
       "      <td>1</td>\n",
       "    </tr>\n",
       "  </tbody>\n",
       "</table>\n",
       "<p>14619 rows × 12 columns</p>\n",
       "</div>"
      ],
      "text/plain": [
       "       user_id        session_id  session_start  session_size  \\\n",
       "0        57906  1507138581309087  1507138581000             2   \n",
       "1        57906  1507138581309087  1507138581000             2   \n",
       "2       132485  1507138583133088  1507138583000             7   \n",
       "3       132485  1507138583133088  1507138583000             7   \n",
       "4       132485  1507138583133088  1507138583000             7   \n",
       "...        ...               ...            ...           ...   \n",
       "14614   166393  1507142178379230  1507142178000             2   \n",
       "14615   166393  1507142178379230  1507142178000             2   \n",
       "14616    84161  1507142179142231  1507142179000             3   \n",
       "14617    84161  1507142179142231  1507142179000             3   \n",
       "14618    84161  1507142179142231  1507142179000             3   \n",
       "\n",
       "       click_article_id  click_timestamp  click_environment  \\\n",
       "0                 47436    1507138584366                  4   \n",
       "1                 46180    1507138614366                  4   \n",
       "2                129305    1507138628124                  4   \n",
       "3                206112    1507138677588                  4   \n",
       "4                166462    1507138707110                  4   \n",
       "...                 ...              ...                ...   \n",
       "14614            226681    1507142178636                  2   \n",
       "14615            206730    1507142208636                  2   \n",
       "14616            166462    1507142225147                  4   \n",
       "14617            159762    1507142474081                  4   \n",
       "14618            257291    1507142504081                  4   \n",
       "\n",
       "       click_deviceGroup  click_os  click_country  click_region  \\\n",
       "0                      1        17              1             8   \n",
       "1                      1        17              1             8   \n",
       "2                      1        17              1             8   \n",
       "3                      1        17              1             8   \n",
       "4                      1        17              1             8   \n",
       "...                  ...       ...            ...           ...   \n",
       "14614                  3        20              1             5   \n",
       "14615                  3        20              1             5   \n",
       "14616                  1        17              1            25   \n",
       "14617                  1        17              1            25   \n",
       "14618                  1        17              1            25   \n",
       "\n",
       "       click_referrer_type  \n",
       "0                        5  \n",
       "1                        5  \n",
       "2                        1  \n",
       "3                        1  \n",
       "4                        1  \n",
       "...                    ...  \n",
       "14614                    7  \n",
       "14615                    7  \n",
       "14616                    1  \n",
       "14617                    1  \n",
       "14618                    1  \n",
       "\n",
       "[14619 rows x 12 columns]"
      ]
     },
     "execution_count": 19,
     "metadata": {},
     "output_type": "execute_result"
    }
   ],
   "source": [
    "clicks_hour_087"
   ]
  },
  {
   "cell_type": "code",
   "execution_count": 20,
   "id": "9fe8d272-8422-445b-8304-52b3a2c88567",
   "metadata": {},
   "outputs": [
    {
     "data": {
      "text/html": [
       "<div>\n",
       "<style scoped>\n",
       "    .dataframe tbody tr th:only-of-type {\n",
       "        vertical-align: middle;\n",
       "    }\n",
       "\n",
       "    .dataframe tbody tr th {\n",
       "        vertical-align: top;\n",
       "    }\n",
       "\n",
       "    .dataframe thead th {\n",
       "        text-align: right;\n",
       "    }\n",
       "</style>\n",
       "<table border=\"1\" class=\"dataframe\">\n",
       "  <thead>\n",
       "    <tr style=\"text-align: right;\">\n",
       "      <th></th>\n",
       "      <th>user_id</th>\n",
       "      <th>session_id</th>\n",
       "      <th>session_start</th>\n",
       "      <th>session_size</th>\n",
       "      <th>click_article_id</th>\n",
       "      <th>click_timestamp</th>\n",
       "      <th>click_environment</th>\n",
       "      <th>click_deviceGroup</th>\n",
       "      <th>click_os</th>\n",
       "      <th>click_country</th>\n",
       "      <th>click_region</th>\n",
       "      <th>click_referrer_type</th>\n",
       "    </tr>\n",
       "  </thead>\n",
       "  <tbody>\n",
       "    <tr>\n",
       "      <th>count</th>\n",
       "      <td>14619.000000</td>\n",
       "      <td>1.461900e+04</td>\n",
       "      <td>1.461900e+04</td>\n",
       "      <td>14619.000000</td>\n",
       "      <td>14619.000000</td>\n",
       "      <td>1.461900e+04</td>\n",
       "      <td>14619.000000</td>\n",
       "      <td>14619.000000</td>\n",
       "      <td>14619.000000</td>\n",
       "      <td>14619.000000</td>\n",
       "      <td>14619.000000</td>\n",
       "      <td>14619.000000</td>\n",
       "    </tr>\n",
       "    <tr>\n",
       "      <th>mean</th>\n",
       "      <td>99884.819276</td>\n",
       "      <td>1.507140e+15</td>\n",
       "      <td>1.507140e+12</td>\n",
       "      <td>3.771599</td>\n",
       "      <td>211030.202408</td>\n",
       "      <td>1.507142e+12</td>\n",
       "      <td>3.970928</td>\n",
       "      <td>1.455093</td>\n",
       "      <td>14.621110</td>\n",
       "      <td>1.266502</td>\n",
       "      <td>18.045147</td>\n",
       "      <td>1.845612</td>\n",
       "    </tr>\n",
       "    <tr>\n",
       "      <th>std</th>\n",
       "      <td>54674.549387</td>\n",
       "      <td>1.040038e+09</td>\n",
       "      <td>1.040039e+06</td>\n",
       "      <td>3.038432</td>\n",
       "      <td>81110.201437</td>\n",
       "      <td>9.324879e+06</td>\n",
       "      <td>0.240661</td>\n",
       "      <td>0.871528</td>\n",
       "      <td>5.594267</td>\n",
       "      <td>1.496558</td>\n",
       "      <td>7.156835</td>\n",
       "      <td>1.163138</td>\n",
       "    </tr>\n",
       "    <tr>\n",
       "      <th>min</th>\n",
       "      <td>10.000000</td>\n",
       "      <td>1.507139e+15</td>\n",
       "      <td>1.507139e+12</td>\n",
       "      <td>2.000000</td>\n",
       "      <td>1843.000000</td>\n",
       "      <td>1.507139e+12</td>\n",
       "      <td>1.000000</td>\n",
       "      <td>1.000000</td>\n",
       "      <td>2.000000</td>\n",
       "      <td>1.000000</td>\n",
       "      <td>1.000000</td>\n",
       "      <td>1.000000</td>\n",
       "    </tr>\n",
       "    <tr>\n",
       "      <th>25%</th>\n",
       "      <td>55286.000000</td>\n",
       "      <td>1.507139e+15</td>\n",
       "      <td>1.507139e+12</td>\n",
       "      <td>2.000000</td>\n",
       "      <td>159762.000000</td>\n",
       "      <td>1.507140e+12</td>\n",
       "      <td>4.000000</td>\n",
       "      <td>1.000000</td>\n",
       "      <td>17.000000</td>\n",
       "      <td>1.000000</td>\n",
       "      <td>13.000000</td>\n",
       "      <td>1.000000</td>\n",
       "    </tr>\n",
       "    <tr>\n",
       "      <th>50%</th>\n",
       "      <td>89454.000000</td>\n",
       "      <td>1.507140e+15</td>\n",
       "      <td>1.507140e+12</td>\n",
       "      <td>3.000000</td>\n",
       "      <td>207311.000000</td>\n",
       "      <td>1.507141e+12</td>\n",
       "      <td>4.000000</td>\n",
       "      <td>1.000000</td>\n",
       "      <td>17.000000</td>\n",
       "      <td>1.000000</td>\n",
       "      <td>21.000000</td>\n",
       "      <td>2.000000</td>\n",
       "    </tr>\n",
       "    <tr>\n",
       "      <th>75%</th>\n",
       "      <td>164945.000000</td>\n",
       "      <td>1.507141e+15</td>\n",
       "      <td>1.507141e+12</td>\n",
       "      <td>4.000000</td>\n",
       "      <td>285719.000000</td>\n",
       "      <td>1.507142e+12</td>\n",
       "      <td>4.000000</td>\n",
       "      <td>1.000000</td>\n",
       "      <td>17.000000</td>\n",
       "      <td>1.000000</td>\n",
       "      <td>25.000000</td>\n",
       "      <td>2.000000</td>\n",
       "    </tr>\n",
       "    <tr>\n",
       "      <th>max</th>\n",
       "      <td>166393.000000</td>\n",
       "      <td>1.507142e+15</td>\n",
       "      <td>1.507142e+12</td>\n",
       "      <td>30.000000</td>\n",
       "      <td>363967.000000</td>\n",
       "      <td>1.507559e+12</td>\n",
       "      <td>4.000000</td>\n",
       "      <td>4.000000</td>\n",
       "      <td>20.000000</td>\n",
       "      <td>11.000000</td>\n",
       "      <td>28.000000</td>\n",
       "      <td>7.000000</td>\n",
       "    </tr>\n",
       "  </tbody>\n",
       "</table>\n",
       "</div>"
      ],
      "text/plain": [
       "             user_id    session_id  session_start  session_size  \\\n",
       "count   14619.000000  1.461900e+04   1.461900e+04  14619.000000   \n",
       "mean    99884.819276  1.507140e+15   1.507140e+12      3.771599   \n",
       "std     54674.549387  1.040038e+09   1.040039e+06      3.038432   \n",
       "min        10.000000  1.507139e+15   1.507139e+12      2.000000   \n",
       "25%     55286.000000  1.507139e+15   1.507139e+12      2.000000   \n",
       "50%     89454.000000  1.507140e+15   1.507140e+12      3.000000   \n",
       "75%    164945.000000  1.507141e+15   1.507141e+12      4.000000   \n",
       "max    166393.000000  1.507142e+15   1.507142e+12     30.000000   \n",
       "\n",
       "       click_article_id  click_timestamp  click_environment  \\\n",
       "count      14619.000000     1.461900e+04       14619.000000   \n",
       "mean      211030.202408     1.507142e+12           3.970928   \n",
       "std        81110.201437     9.324879e+06           0.240661   \n",
       "min         1843.000000     1.507139e+12           1.000000   \n",
       "25%       159762.000000     1.507140e+12           4.000000   \n",
       "50%       207311.000000     1.507141e+12           4.000000   \n",
       "75%       285719.000000     1.507142e+12           4.000000   \n",
       "max       363967.000000     1.507559e+12           4.000000   \n",
       "\n",
       "       click_deviceGroup      click_os  click_country  click_region  \\\n",
       "count       14619.000000  14619.000000   14619.000000  14619.000000   \n",
       "mean            1.455093     14.621110       1.266502     18.045147   \n",
       "std             0.871528      5.594267       1.496558      7.156835   \n",
       "min             1.000000      2.000000       1.000000      1.000000   \n",
       "25%             1.000000     17.000000       1.000000     13.000000   \n",
       "50%             1.000000     17.000000       1.000000     21.000000   \n",
       "75%             1.000000     17.000000       1.000000     25.000000   \n",
       "max             4.000000     20.000000      11.000000     28.000000   \n",
       "\n",
       "       click_referrer_type  \n",
       "count         14619.000000  \n",
       "mean              1.845612  \n",
       "std               1.163138  \n",
       "min               1.000000  \n",
       "25%               1.000000  \n",
       "50%               2.000000  \n",
       "75%               2.000000  \n",
       "max               7.000000  "
      ]
     },
     "execution_count": 20,
     "metadata": {},
     "output_type": "execute_result"
    }
   ],
   "source": [
    "clicks_hour_087.describe()"
   ]
  },
  {
   "cell_type": "code",
   "execution_count": null,
   "id": "6ce67105-3778-4e5d-8bf7-88c858287d9e",
   "metadata": {},
   "outputs": [],
   "source": []
  },
  {
   "cell_type": "code",
   "execution_count": 21,
   "id": "af7058f3-293a-41a4-aa61-ea24ac166c20",
   "metadata": {},
   "outputs": [
    {
     "data": {
      "image/png": "[encoded data removed]",
      "text/plain": [
       "<Figure size 2500x1000 with 3 Axes>"
      ]
     },
     "metadata": {},
     "output_type": "display_data"
    }
   ],
   "source": [
    "# Affichage du bar plot montrant le nombre de valeurs présentes et manquantes pour chaque colonne.\n",
    "msno.bar(clicks_hour_087)\n",
    "plt.show()\n"
   ]
  },
  {
   "cell_type": "code",
   "execution_count": 22,
   "id": "8f657be0-7e77-46d0-a80a-730d780d1220",
   "metadata": {},
   "outputs": [
    {
     "data": {
      "image/png": "[encoded data removed]",
      "text/plain": [
       "<Figure size 640x480 with 1 Axes>"
      ]
     },
     "metadata": {},
     "output_type": "display_data"
    }
   ],
   "source": [
    "clicks_hour_087.session_size.hist(bins=20, range=(0,40))\n",
    "plt.title('Nb of clicks per session');"
   ]
  },
  {
   "cell_type": "code",
   "execution_count": 23,
   "id": "a7742200-4de8-4d0f-9d85-73706099957f",
   "metadata": {},
   "outputs": [
    {
     "data": {
      "image/png": "[encoded data removed]",
      "text/plain": [
       "<Figure size 640x480 with 1 Axes>"
      ]
     },
     "metadata": {},
     "output_type": "display_data"
    }
   ],
   "source": [
    "clicks_hour_087.click_country.hist(bins=10, range=(0,12))\n",
    "plt.title('Clicks per country');"
   ]
  },
  {
   "cell_type": "code",
   "execution_count": 24,
   "id": "f369c107-646e-4532-96f9-2c5da1b8c5cd",
   "metadata": {},
   "outputs": [
    {
     "data": {
      "text/html": [
       "<div>\n",
       "<style scoped>\n",
       "    .dataframe tbody tr th:only-of-type {\n",
       "        vertical-align: middle;\n",
       "    }\n",
       "\n",
       "    .dataframe tbody tr th {\n",
       "        vertical-align: top;\n",
       "    }\n",
       "\n",
       "    .dataframe thead th {\n",
       "        text-align: right;\n",
       "    }\n",
       "</style>\n",
       "<table border=\"1\" class=\"dataframe\">\n",
       "  <thead>\n",
       "    <tr style=\"text-align: right;\">\n",
       "      <th></th>\n",
       "      <th>user_id</th>\n",
       "      <th>session_id</th>\n",
       "      <th>session_start</th>\n",
       "      <th>session_size</th>\n",
       "      <th>click_article_id</th>\n",
       "      <th>click_timestamp</th>\n",
       "      <th>click_environment</th>\n",
       "      <th>click_deviceGroup</th>\n",
       "      <th>click_os</th>\n",
       "      <th>click_country</th>\n",
       "      <th>click_region</th>\n",
       "      <th>click_referrer_type</th>\n",
       "    </tr>\n",
       "  </thead>\n",
       "  <tbody>\n",
       "    <tr>\n",
       "      <th>14614</th>\n",
       "      <td>166393</td>\n",
       "      <td>1507142178379230</td>\n",
       "      <td>1507142178000</td>\n",
       "      <td>2</td>\n",
       "      <td>226681</td>\n",
       "      <td>1507142178636</td>\n",
       "      <td>2</td>\n",
       "      <td>3</td>\n",
       "      <td>20</td>\n",
       "      <td>1</td>\n",
       "      <td>5</td>\n",
       "      <td>7</td>\n",
       "    </tr>\n",
       "    <tr>\n",
       "      <th>14615</th>\n",
       "      <td>166393</td>\n",
       "      <td>1507142178379230</td>\n",
       "      <td>1507142178000</td>\n",
       "      <td>2</td>\n",
       "      <td>206730</td>\n",
       "      <td>1507142208636</td>\n",
       "      <td>2</td>\n",
       "      <td>3</td>\n",
       "      <td>20</td>\n",
       "      <td>1</td>\n",
       "      <td>5</td>\n",
       "      <td>7</td>\n",
       "    </tr>\n",
       "  </tbody>\n",
       "</table>\n",
       "</div>"
      ],
      "text/plain": [
       "       user_id        session_id  session_start  session_size  \\\n",
       "14614   166393  1507142178379230  1507142178000             2   \n",
       "14615   166393  1507142178379230  1507142178000             2   \n",
       "\n",
       "       click_article_id  click_timestamp  click_environment  \\\n",
       "14614            226681    1507142178636                  2   \n",
       "14615            206730    1507142208636                  2   \n",
       "\n",
       "       click_deviceGroup  click_os  click_country  click_region  \\\n",
       "14614                  3        20              1             5   \n",
       "14615                  3        20              1             5   \n",
       "\n",
       "       click_referrer_type  \n",
       "14614                    7  \n",
       "14615                    7  "
      ]
     },
     "execution_count": 24,
     "metadata": {},
     "output_type": "execute_result"
    }
   ],
   "source": [
    "clicks_hour_087.loc[clicks_hour_087.user_id == \t166393]"
   ]
  },
  {
   "cell_type": "code",
   "execution_count": 25,
   "id": "bf798e14-c436-4dfd-b300-8a5f917487ef",
   "metadata": {},
   "outputs": [
    {
     "data": {
      "text/html": [
       "<div>\n",
       "<style scoped>\n",
       "    .dataframe tbody tr th:only-of-type {\n",
       "        vertical-align: middle;\n",
       "    }\n",
       "\n",
       "    .dataframe tbody tr th {\n",
       "        vertical-align: top;\n",
       "    }\n",
       "\n",
       "    .dataframe thead th {\n",
       "        text-align: right;\n",
       "    }\n",
       "</style>\n",
       "<table border=\"1\" class=\"dataframe\">\n",
       "  <thead>\n",
       "    <tr style=\"text-align: right;\">\n",
       "      <th></th>\n",
       "      <th>user_id</th>\n",
       "      <th>session_id</th>\n",
       "      <th>session_start</th>\n",
       "      <th>session_size</th>\n",
       "      <th>click_article_id</th>\n",
       "      <th>click_timestamp</th>\n",
       "      <th>click_environment</th>\n",
       "      <th>click_deviceGroup</th>\n",
       "      <th>click_os</th>\n",
       "      <th>click_country</th>\n",
       "      <th>click_region</th>\n",
       "      <th>click_referrer_type</th>\n",
       "    </tr>\n",
       "  </thead>\n",
       "  <tbody>\n",
       "    <tr>\n",
       "      <th>14614</th>\n",
       "      <td>166393</td>\n",
       "      <td>1507142178379230</td>\n",
       "      <td>1507142178000</td>\n",
       "      <td>2</td>\n",
       "      <td>226681</td>\n",
       "      <td>1507142178636</td>\n",
       "      <td>2</td>\n",
       "      <td>3</td>\n",
       "      <td>20</td>\n",
       "      <td>1</td>\n",
       "      <td>5</td>\n",
       "      <td>7</td>\n",
       "    </tr>\n",
       "    <tr>\n",
       "      <th>14615</th>\n",
       "      <td>166393</td>\n",
       "      <td>1507142178379230</td>\n",
       "      <td>1507142178000</td>\n",
       "      <td>2</td>\n",
       "      <td>206730</td>\n",
       "      <td>1507142208636</td>\n",
       "      <td>2</td>\n",
       "      <td>3</td>\n",
       "      <td>20</td>\n",
       "      <td>1</td>\n",
       "      <td>5</td>\n",
       "      <td>7</td>\n",
       "    </tr>\n",
       "  </tbody>\n",
       "</table>\n",
       "</div>"
      ],
      "text/plain": [
       "       user_id        session_id  session_start  session_size  \\\n",
       "14614   166393  1507142178379230  1507142178000             2   \n",
       "14615   166393  1507142178379230  1507142178000             2   \n",
       "\n",
       "       click_article_id  click_timestamp  click_environment  \\\n",
       "14614            226681    1507142178636                  2   \n",
       "14615            206730    1507142208636                  2   \n",
       "\n",
       "       click_deviceGroup  click_os  click_country  click_region  \\\n",
       "14614                  3        20              1             5   \n",
       "14615                  3        20              1             5   \n",
       "\n",
       "       click_referrer_type  \n",
       "14614                    7  \n",
       "14615                    7  "
      ]
     },
     "execution_count": 25,
     "metadata": {},
     "output_type": "execute_result"
    }
   ],
   "source": [
    "clicks_hour_087.loc[clicks_hour_087.session_id == 1507142178379230]"
   ]
  },
  {
   "cell_type": "markdown",
   "id": "373f66ea-b7c0-4d5a-9461-c55d11eb2011",
   "metadata": {},
   "source": [
    "# 3. Preparation des données"
   ]
  },
  {
   "cell_type": "markdown",
   "id": "115e91b2-9e10-4e7d-9394-e7e7a1b44dd4",
   "metadata": {},
   "source": [
    "## 3.1 Mapping entre articles et embeddings"
   ]
  },
  {
   "cell_type": "code",
   "execution_count": 26,
   "id": "76e5da9e-0fbf-40d9-b3df-0b2f627456ce",
   "metadata": {},
   "outputs": [
    {
     "data": {
      "text/plain": [
       "array([[-0.16118301, -0.95723313, -0.13794445, ..., -0.231686  ,\n",
       "         0.5974159 ,  0.40962312],\n",
       "       [-0.52321565, -0.974058  ,  0.73860806, ...,  0.18282819,\n",
       "         0.39708954, -0.83436364],\n",
       "       [-0.61961854, -0.9729604 , -0.20736018, ..., -0.44758022,\n",
       "         0.8059317 , -0.28528407],\n",
       "       ...,\n",
       "       [-0.25139043, -0.9762427 ,  0.58609664, ..., -0.14372464,\n",
       "         0.06809307, -0.7050104 ],\n",
       "       [ 0.22434181, -0.92328775, -0.38174152, ...,  0.6871319 ,\n",
       "        -0.5315117 ,  0.01072566],\n",
       "       [-0.25713393, -0.9946313 ,  0.9837918 , ...,  0.98387307,\n",
       "        -0.8381829 , -0.1792827 ]], dtype=float32)"
      ]
     },
     "execution_count": 26,
     "metadata": {},
     "output_type": "execute_result"
    }
   ],
   "source": [
    "embeddings"
   ]
  },
  {
   "cell_type": "code",
   "execution_count": 27,
   "id": "bc5744a2-c281-4b3f-bde7-64a7b0b5f598",
   "metadata": {},
   "outputs": [
    {
     "data": {
      "text/plain": [
       "(364047, 250)"
      ]
     },
     "execution_count": 27,
     "metadata": {},
     "output_type": "execute_result"
    }
   ],
   "source": [
    "embeddings.shape"
   ]
  },
  {
   "cell_type": "code",
   "execution_count": 28,
   "id": "d6aa609a-a8ad-4894-8d04-94b6fe3eab99",
   "metadata": {},
   "outputs": [
    {
     "data": {
      "text/plain": [
       "364047"
      ]
     },
     "execution_count": 28,
     "metadata": {},
     "output_type": "execute_result"
    }
   ],
   "source": [
    "articles_metadata[\"article_id\"].size"
   ]
  },
  {
   "cell_type": "code",
   "execution_count": 29,
   "id": "c81afd1f-e80e-4d34-a817-b7c73636b6d5",
   "metadata": {},
   "outputs": [
    {
     "data": {
      "text/plain": [
       "364047"
      ]
     },
     "execution_count": 29,
     "metadata": {},
     "output_type": "execute_result"
    }
   ],
   "source": [
    "articles_metadata[\"article_id\"].nunique()"
   ]
  },
  {
   "cell_type": "markdown",
   "id": "4a0a6ff1-bedb-4250-ae9d-ca7e7bb1d433",
   "metadata": {},
   "source": [
    "les \"article_id\" dans articles_metadata sont bien au meme nombre que les embeddings, on va donc créer un lien entre article_id et les embeddings"
   ]
  },
  {
   "cell_type": "code",
   "execution_count": 30,
   "id": "8c58f6a6-164b-4c93-b9c1-3389ae2707b1",
   "metadata": {},
   "outputs": [],
   "source": [
    "# Charger les contentId des articles\n",
    "content_ids = articles_metadata[\"article_id\"].sort_values().tolist()\n",
    "\n",
    "# Créer un mapping contentId -> embedding\n",
    "article_embeddings = dict(zip(content_ids, embeddings))"
   ]
  },
  {
   "cell_type": "markdown",
   "id": "2688bdc1-1b82-467c-a1fb-145512ba1106",
   "metadata": {},
   "source": [
    "Crée un dictionnaire qui mappe chaque article_id (depuis articles_metadata.csv) à son index dans le tableau des embeddings.\n",
    "Utile si on veut retrouver rapidement l'embedding d’un article"
   ]
  },
  {
   "cell_type": "code",
   "execution_count": 31,
   "id": "ce411491-34e9-4243-a723-289670a1206e",
   "metadata": {},
   "outputs": [
    {
     "data": {
      "text/plain": [
       "array([-0.25713393, -0.9946313 ,  0.9837918 , -0.19097468, -0.95372003,\n",
       "       -0.89382285,  0.70897424, -0.557027  ,  0.84684193, -0.11851932,\n",
       "        0.77171886, -0.81077564,  0.81242806, -0.6977698 ,  0.5314953 ,\n",
       "       -0.45345655,  0.02234515,  0.8769271 ,  0.94741654, -0.88085186,\n",
       "       -0.4842552 , -0.6572001 ,  0.29745552, -0.40023822, -0.3645693 ,\n",
       "        0.81184405, -0.919919  ,  0.27107313,  0.41475266, -0.20864615,\n",
       "       -0.46743035, -0.68873554,  0.4420379 , -0.6123253 , -0.9383403 ,\n",
       "       -0.54241943,  0.19822612,  0.7238798 , -0.40185034, -0.08931966,\n",
       "       -0.66412914,  0.19056718,  0.877918  , -0.99238974,  0.39173394,\n",
       "        0.3753621 , -0.79499745,  0.9167145 ,  0.13803585,  0.96597433,\n",
       "       -0.71312815, -0.9195556 ,  0.78834224, -0.8112336 ,  0.5681865 ,\n",
       "        0.8477787 , -0.08933286, -0.24795273,  0.9856869 , -0.44817355,\n",
       "        0.96303916,  0.32898596, -0.89353883, -0.8172874 , -0.70405513,\n",
       "       -0.70882314, -0.78378314,  0.58694714,  0.05717174,  0.4864473 ,\n",
       "       -0.79348   ,  0.20610762, -0.24109   ,  0.6100086 ,  0.95290005,\n",
       "        0.96528566,  0.39736402,  0.05971499,  0.80543864,  0.90422463,\n",
       "        0.9264362 , -0.9632919 ,  0.81315184, -0.5396997 , -0.6953776 ,\n",
       "        0.37497672,  0.24802169, -0.688653  ,  0.27423215,  0.27803636,\n",
       "        0.03962745, -0.53836715, -0.15748648, -0.7101108 , -0.78158736,\n",
       "       -0.8005763 , -0.20854384,  0.07609919,  0.619058  ,  0.8113567 ,\n",
       "        0.8825373 ,  0.3909913 ,  0.56102216, -0.05077393, -0.47468883,\n",
       "        0.8707394 , -0.10941517,  0.50236225, -0.8262718 , -0.10982496,\n",
       "        0.8653504 , -0.3753139 , -0.6850399 ,  0.31653437,  0.441783  ,\n",
       "       -0.39191878, -0.04160551, -0.47972837,  0.08190588, -0.7475686 ,\n",
       "        0.53825116, -0.96452814, -0.13362859, -0.23168096, -0.33578533,\n",
       "       -0.7205867 , -0.6335916 ,  0.9430588 ,  0.93574667,  0.7789005 ,\n",
       "       -0.4678895 , -0.34793672, -0.18978792, -0.67390466,  0.9902492 ,\n",
       "        0.6299788 , -0.4900056 ,  0.46414787,  0.65050054,  0.32219073,\n",
       "       -0.8868734 ,  0.20686816,  0.4209147 ,  0.8572056 , -0.45923984,\n",
       "        0.87842125,  0.9880028 , -0.77048796, -0.81476444, -0.43824735,\n",
       "        0.96094555,  0.5098125 ,  0.0321088 ,  0.938618  , -0.24532901,\n",
       "        0.9862021 , -0.46545497,  0.9607726 ,  0.8609744 ,  0.44234294,\n",
       "        0.43200496, -0.8186307 , -0.58092725,  0.26811606, -0.896904  ,\n",
       "        0.18800242,  0.7925771 ,  0.8119385 , -0.49079567,  0.7699885 ,\n",
       "        0.08006413,  0.4109498 , -0.01090854,  0.48615068,  0.39474174,\n",
       "       -0.99597347,  0.96515566,  0.6125457 , -0.18088782,  0.00628108,\n",
       "       -0.9097301 , -0.00622308,  0.4220331 , -0.54604447,  0.8713213 ,\n",
       "        0.7647394 ,  0.3243145 ,  0.37406272,  0.55931526,  0.6169196 ,\n",
       "        0.7388275 , -0.7034228 ,  0.75614214,  0.02065359,  0.8971992 ,\n",
       "       -0.7258175 , -0.36871168,  0.9253665 , -0.98959535,  0.37415844,\n",
       "       -0.9646594 ,  0.72075164, -0.83170855, -0.44125417, -0.41961104,\n",
       "       -0.2735517 ,  0.80726796, -0.9113101 ,  0.11630829, -0.7339847 ,\n",
       "       -0.6133834 , -0.10744917,  0.96414226,  0.25716418, -0.9525126 ,\n",
       "        0.65527445,  0.30467623, -0.69741154,  0.14599407,  0.15569672,\n",
       "        0.9595628 ,  0.98217523,  0.26469964, -0.03470941, -0.1305704 ,\n",
       "       -0.9561781 , -0.6123668 ,  0.21258795, -0.51977354, -0.7697161 ,\n",
       "       -0.6823826 ,  0.6508714 , -0.7266744 , -0.64255995,  0.97918403,\n",
       "       -0.8154762 , -0.79184324,  0.70519686,  0.6528053 ,  0.82464385,\n",
       "       -0.49048108, -0.68966615, -0.6618464 ,  0.49094468,  0.7365255 ,\n",
       "        0.66766834,  0.90213007,  0.98387307, -0.8381829 , -0.1792827 ],\n",
       "      dtype=float32)"
      ]
     },
     "execution_count": 31,
     "metadata": {},
     "output_type": "execute_result"
    }
   ],
   "source": [
    "article_embeddings[364046]"
   ]
  },
  {
   "cell_type": "code",
   "execution_count": 32,
   "id": "fa75f1ad-148f-4244-a8b2-77ce5a0095e0",
   "metadata": {},
   "outputs": [
    {
     "name": "stdout",
     "output_type": "stream",
     "text": [
      "(364047, 250)\n",
      "                 0         1         2         3         4         5    \\\n",
      "article_id                                                               \n",
      "0          -0.161183 -0.957233 -0.137944  0.050855  0.830055  0.901365   \n",
      "1          -0.523216 -0.974058  0.738608  0.155234  0.626294  0.485297   \n",
      "2          -0.619619 -0.972960 -0.207360 -0.128861  0.044748 -0.387535   \n",
      "3          -0.740843 -0.975749  0.391698  0.641738 -0.268645  0.191745   \n",
      "4          -0.279052 -0.972315  0.685374  0.113056  0.238315  0.271913   \n",
      "\n",
      "                 6         7         8         9    ...       240       241  \\\n",
      "article_id                                          ...                       \n",
      "0          -0.335148 -0.559561 -0.500603  0.165183  ...  0.321248  0.313999   \n",
      "1          -0.715657 -0.897996 -0.359747  0.398246  ... -0.487843  0.823124   \n",
      "2          -0.730477 -0.066126 -0.754899 -0.242004  ...  0.454756  0.473184   \n",
      "3          -0.825593 -0.710591 -0.040099 -0.110514  ...  0.271535  0.036040   \n",
      "4          -0.568816  0.341194 -0.600554 -0.125644  ...  0.238286  0.809268   \n",
      "\n",
      "                 242       243       244       245       246       247  \\\n",
      "article_id                                                               \n",
      "0           0.636412  0.169179  0.540524 -0.813182  0.286870 -0.231686   \n",
      "1           0.412688 -0.338654  0.320787  0.588643 -0.594137  0.182828   \n",
      "2           0.377866 -0.863887 -0.383365  0.137721 -0.810877 -0.447580   \n",
      "3           0.480029 -0.763173  0.022627  0.565165 -0.910286 -0.537838   \n",
      "4           0.427521 -0.615932 -0.503697  0.614450 -0.917760 -0.424061   \n",
      "\n",
      "                 248       249  \n",
      "article_id                      \n",
      "0           0.597416  0.409623  \n",
      "1           0.397090 -0.834364  \n",
      "2           0.805932 -0.285284  \n",
      "3           0.243541 -0.885329  \n",
      "4           0.185484 -0.580292  \n",
      "\n",
      "[5 rows x 250 columns]\n",
      "Index type: <class 'numpy.int64'>\n",
      "Feature type: <class 'numpy.float32'>\n"
     ]
    }
   ],
   "source": [
    "# Convertir le dictionnaire en DataFrame\n",
    "\n",
    "# Charger les article_ids\n",
    "content_ids = articles_metadata[\"article_id\"].sort_values().tolist()\n",
    "\n",
    "# Vérifier que la taille correspond\n",
    "assert len(content_ids) == len(embeddings), \"Nombre d'IDs ≠ nombre d'embeddings\"\n",
    "\n",
    "# Créer un DataFrame indexé par article_id\n",
    "article_features = pd.DataFrame(embeddings, index=content_ids)\n",
    "\n",
    "# Nommer l'index (optionnel mais propre)\n",
    "article_features.index.name = \"article_id\"\n",
    "\n",
    "# Vérification\n",
    "print(article_features.shape)\n",
    "print(article_features.head())\n",
    "print(\"Index type:\", type(article_features.index[0]))\n",
    "print(\"Feature type:\", type(article_features.iloc[0, 0]))"
   ]
  },
  {
   "cell_type": "markdown",
   "id": "b376ba9f-73ab-4742-903d-153249e61fba",
   "metadata": {},
   "source": [
    "## 3.2 Merge des .csv clicks en un seul fichier"
   ]
  },
  {
   "cell_type": "code",
   "execution_count": 33,
   "id": "4d2d07cd-a0ac-49c6-8595-b75d9d74154a",
   "metadata": {},
   "outputs": [
    {
     "name": "stdout",
     "output_type": "stream",
     "text": [
      "Loaded existing combined clicks data from: C:/Users/flore/Openclassrooms/Projet 10/inputs\\clicks.csv\n",
      "         user_id        session_id  session_start  session_size  \\\n",
      "0              0  1506825423271737  1506825423000             2   \n",
      "1              0  1506825423271737  1506825423000             2   \n",
      "2              1  1506825426267738  1506825426000             2   \n",
      "3              1  1506825426267738  1506825426000             2   \n",
      "4              2  1506825435299739  1506825435000             2   \n",
      "...          ...               ...            ...           ...   \n",
      "2988176    10051  1508211372158328  1508211372000             2   \n",
      "2988177   322896  1508211376302329  1508211376000             2   \n",
      "2988178   322896  1508211376302329  1508211376000             2   \n",
      "2988179   123718  1508211379189330  1508211379000             2   \n",
      "2988180   123718  1508211379189330  1508211379000             2   \n",
      "\n",
      "         click_article_id  click_timestamp  click_environment  \\\n",
      "0                  157541    1506826828020                  4   \n",
      "1                   68866    1506826858020                  4   \n",
      "2                  235840    1506827017951                  4   \n",
      "3                   96663    1506827047951                  4   \n",
      "4                  119592    1506827090575                  4   \n",
      "...                   ...              ...                ...   \n",
      "2988176             84911    1508211557302                  4   \n",
      "2988177             30760    1508211672520                  4   \n",
      "2988178            157507    1508211702520                  4   \n",
      "2988179            234481    1508211513583                  4   \n",
      "2988180            233578    1508211543583                  4   \n",
      "\n",
      "         click_deviceGroup  click_os  click_country  click_region  \\\n",
      "0                        3        20              1            20   \n",
      "1                        3        20              1            20   \n",
      "2                        1        17              1            16   \n",
      "3                        1        17              1            16   \n",
      "4                        1        17              1            24   \n",
      "...                    ...       ...            ...           ...   \n",
      "2988176                  3         2              1            25   \n",
      "2988177                  1        17              1            25   \n",
      "2988178                  1        17              1            25   \n",
      "2988179                  3         2              1            25   \n",
      "2988180                  3         2              1            25   \n",
      "\n",
      "         click_referrer_type  \n",
      "0                          2  \n",
      "1                          2  \n",
      "2                          2  \n",
      "3                          2  \n",
      "4                          2  \n",
      "...                      ...  \n",
      "2988176                    1  \n",
      "2988177                    2  \n",
      "2988178                    2  \n",
      "2988179                    2  \n",
      "2988180                    2  \n",
      "\n",
      "[2988181 rows x 12 columns]\n"
     ]
    }
   ],
   "source": [
    "clicks_filename = 'clicks.csv'\n",
    "clicks_input_dir = \"C:/Users/flore/Openclassrooms/Projet 10/inputs/clicks\"\n",
    "parent_dir = os.path.dirname(clicks_input_dir)\n",
    "output_filepath = os.path.join(parent_dir, clicks_filename)\n",
    "\n",
    "\n",
    "if not os.path.exists(output_filepath):\n",
    "    all_csv_files = sorted(\n",
    "        [\n",
    "            os.path.join(clicks_input_dir, fname)\n",
    "            for fname in os.listdir(clicks_input_dir)\n",
    "            if fname.endswith(\".csv\")\n",
    "        ]\n",
    "    )\n",
    "    print(\"Number of clicks csv found:\", len(all_csv_files))\n",
    "\n",
    "    list_of_dfs = [pd.read_csv(f, index_col=None, header=0) for f in all_csv_files]\n",
    "    clicks = pd.concat(list_of_dfs, axis=0, ignore_index=True)\n",
    "    clicks.to_csv(output_filepath, index=False)\n",
    "    print(f\"Combined clicks data saved to: {output_filepath}\")\n",
    "    \n",
    "else:\n",
    "    clicks = pd.read_csv(output_filepath)\n",
    "    print(f\"Loaded existing combined clicks data from: {output_filepath}\")\n",
    "\n",
    "print(clicks)"
   ]
  },
  {
   "cell_type": "code",
   "execution_count": 34,
   "id": "34805029-e4d9-4b2f-b7b4-6ff31def04de",
   "metadata": {},
   "outputs": [
    {
     "name": "stdout",
     "output_type": "stream",
     "text": [
      "Index(['user_id', 'session_id', 'session_start', 'session_size',\n",
      "       'click_article_id', 'click_timestamp', 'click_environment',\n",
      "       'click_deviceGroup', 'click_os', 'click_country', 'click_region',\n",
      "       'click_referrer_type'],\n",
      "      dtype='object')\n"
     ]
    }
   ],
   "source": [
    "print(clicks.columns)"
   ]
  },
  {
   "cell_type": "code",
   "execution_count": 35,
   "id": "0e9132db-d914-4a2c-9ec9-0c57b1089a30",
   "metadata": {},
   "outputs": [],
   "source": [
    "# Compter le nombre de clics par article\n",
    "article_click_counts = clicks['click_article_id'].value_counts()"
   ]
  },
  {
   "cell_type": "code",
   "execution_count": 36,
   "id": "3f787271-b42b-45de-8b9f-f57d93b30742",
   "metadata": {},
   "outputs": [
    {
     "data": {
      "image/png": "[encoded data removed]",
      "text/plain": [
       "<Figure size 800x600 with 1 Axes>"
      ]
     },
     "metadata": {},
     "output_type": "display_data"
    }
   ],
   "source": [
    "plt.figure(figsize=(8, 6))\n",
    "plt.boxplot(article_click_counts )\n",
    "plt.title('Distribution du Nombre de Clics par Article (Boîte à Moustaches)')\n",
    "plt.ylabel('Nombre de Clics')\n",
    "plt.xticks([1], ['Nombre de Clics'])\n",
    "plt.grid(axis='y', alpha=0.75)\n",
    "plt.show()"
   ]
  },
  {
   "cell_type": "code",
   "execution_count": 37,
   "id": "c93ed173-683c-40af-bde0-f8ad678cb94c",
   "metadata": {},
   "outputs": [
    {
     "data": {
      "image/png": "[encoded data removed]",
      "text/plain": [
       "<Figure size 800x600 with 1 Axes>"
      ]
     },
     "metadata": {},
     "output_type": "display_data"
    }
   ],
   "source": [
    "plt.figure(figsize=(8, 6))\n",
    "plt.boxplot(article_click_counts )\n",
    "plt.title('Distribution du Nombre de Clics par Article (Boîte à Moustaches)')\n",
    "plt.ylabel('Nombre de Clics')\n",
    "plt.ylim(0, 20)  # Limiter l'axe des y de 0 à 20\n",
    "plt.grid(axis='y', alpha=0.75)\n",
    "plt.show()"
   ]
  },
  {
   "cell_type": "code",
   "execution_count": 38,
   "id": "5a5c07f5-687a-43e9-8f29-8587ca40beed",
   "metadata": {},
   "outputs": [
    {
     "data": {
      "image/png": "[encoded data removed]",
      "text/plain": [
       "<Figure size 800x600 with 1 Axes>"
      ]
     },
     "metadata": {},
     "output_type": "display_data"
    }
   ],
   "source": [
    "# Compter le nombre de clics par article\n",
    "user_click_counts = clicks['user_id'].value_counts()\n",
    "\n",
    "plt.figure(figsize=(8, 6))\n",
    "plt.boxplot(user_click_counts )\n",
    "plt.title('Distribution du Nombre de Clics par User (Boîte à Moustaches)')\n",
    "plt.ylabel('Nombre de Clics')\n",
    "plt.xticks([1], ['Nombre de Clics'])\n",
    "plt.grid(axis='y', alpha=0.75)\n",
    "plt.show()"
   ]
  },
  {
   "cell_type": "code",
   "execution_count": 39,
   "id": "b7479fdf-83f4-4d00-9d66-7baa5c414d16",
   "metadata": {},
   "outputs": [
    {
     "data": {
      "image/png": "[encoded data removed]",
      "text/plain": [
       "<Figure size 800x600 with 1 Axes>"
      ]
     },
     "metadata": {},
     "output_type": "display_data"
    }
   ],
   "source": [
    "plt.figure(figsize=(8, 6))\n",
    "plt.boxplot(user_click_counts )\n",
    "plt.title('Distribution du Nombre de Clics par User (Boîte à Moustaches)')\n",
    "plt.ylabel('Nombre de Clics')\n",
    "plt.ylim(0, 20)  # Limiter l'axe des y de 0 à 20\n",
    "plt.grid(axis='y', alpha=0.75)\n",
    "plt.show()"
   ]
  },
  {
   "cell_type": "markdown",
   "id": "56de7d85-fbdf-41f9-8f13-8890acb37d14",
   "metadata": {},
   "source": [
    "## 3.3 Réduction et split du dataset en train-test"
   ]
  },
  {
   "cell_type": "markdown",
   "id": "930e16c4-87aa-4dd1-a970-82f1b7a3b77e",
   "metadata": {},
   "source": [
    "Pour des problématiques de mémoire et de temps de computation, nous allons réduire le dataset en filtrant sur les utilisateurs et les articles"
   ]
  },
  {
   "cell_type": "markdown",
   "id": "fc01c343-98cf-4a3f-9995-a1ec0109cc77",
   "metadata": {},
   "source": [
    "Réduction des utilisateurs:"
   ]
  },
  {
   "cell_type": "code",
   "execution_count": 40,
   "id": "c328be2f-1969-4fce-9772-e7fb0b92b596",
   "metadata": {},
   "outputs": [],
   "source": [
    "# Étape 1 : Comptage du nombre de clics par utilisateur\n",
    "user_click_counts = clicks['user_id'].value_counts()\n",
    "\n",
    "# Étape 2 : On garde uniquement les utilisateurs avec > 50 clics\n",
    "filtered_users = user_click_counts[user_click_counts > 50].index\n",
    "\n",
    "# Étape 3 : Échantillonnage de 1000 utilisateurs parmi les filtered_users pour accélérer encore plus les calculs\n",
    "np.random.seed(42)\n",
    "subset_users = np.random.choice(filtered_users, size=1000, replace=False)\n",
    "\n",
    "# Étape 4 : Filtrer les données sur ces utilisateurs\n",
    "filtered_clicks = clicks[clicks[\"user_id\"].isin(subset_users)].copy()"
   ]
  },
  {
   "cell_type": "code",
   "execution_count": 41,
   "id": "1c3dccc4-cfc4-4875-8124-8f137401506a",
   "metadata": {},
   "outputs": [
    {
     "name": "stdout",
     "output_type": "stream",
     "text": [
      "Nb de users initiaux: 322897\n",
      "Nb de users après filtre (> 50clics): 6365\n",
      "Nb de users finaux, apres sampling): 1000\n"
     ]
    }
   ],
   "source": [
    "print(f\"Nb de users initiaux:\",len(user_click_counts))\n",
    "print(f\"Nb de users après filtre (> 50clics):\",len(filtered_users))\n",
    "print(f\"Nb de users finaux, apres sampling):\",len(subset_users))"
   ]
  },
  {
   "cell_type": "code",
   "execution_count": 42,
   "id": "335722a3-4bd3-4b20-9567-8ea2851cd8bc",
   "metadata": {},
   "outputs": [
    {
     "data": {
      "text/plain": [
       "array([ 1076,  1465, 16081, 93849, 13231,  4837, 59193, 45061, 44812,\n",
       "       43369], dtype=int64)"
      ]
     },
     "execution_count": 42,
     "metadata": {},
     "output_type": "execute_result"
    }
   ],
   "source": [
    "subset_users[:10]"
   ]
  },
  {
   "cell_type": "markdown",
   "id": "b61019b8-87ab-44e2-925b-82c46c338f8b",
   "metadata": {},
   "source": [
    "Réduction des articles:"
   ]
  },
  {
   "cell_type": "code",
   "execution_count": 43,
   "id": "f5366df2-0675-4224-82db-3fb196c2fae0",
   "metadata": {},
   "outputs": [],
   "source": [
    "# Compter le nombre de clics par article\n",
    "article_counts = clicks[\"click_article_id\"].value_counts()\n",
    "\n",
    "# Garder uniquement les articles avec au moins 2 clics\n",
    "filtered_articles = article_counts[article_counts > 5].index"
   ]
  },
  {
   "cell_type": "code",
   "execution_count": 44,
   "id": "1e6bf529-a168-4e35-9ca3-b53644cc6b31",
   "metadata": {},
   "outputs": [
    {
     "name": "stdout",
     "output_type": "stream",
     "text": [
      "Nb d'articles initiaux: 46033\n",
      "Nb d'articles après filtre: 12106\n"
     ]
    }
   ],
   "source": [
    "print(f\"Nb d'articles initiaux:\",len(article_counts))\n",
    "print(f\"Nb d'articles après filtre:\",len(filtered_articles))"
   ]
  },
  {
   "cell_type": "code",
   "execution_count": 45,
   "id": "9451dfb0-2f30-481c-aae0-eb320cd9c348",
   "metadata": {},
   "outputs": [],
   "source": [
    "# Garder seulement les lignes où l'article est populaire\n",
    "articles_filtered_clicks = filtered_clicks[filtered_clicks[\"click_article_id\"].isin(filtered_articles)].copy()"
   ]
  },
  {
   "cell_type": "code",
   "execution_count": 46,
   "id": "f963f54c-d345-45d6-a1b1-52cfbb447154",
   "metadata": {},
   "outputs": [
    {
     "name": "stdout",
     "output_type": "stream",
     "text": [
      "2988181\n",
      "82071\n"
     ]
    }
   ],
   "source": [
    "print(len(clicks))\n",
    "print(len(articles_filtered_clicks))"
   ]
  },
  {
   "cell_type": "code",
   "execution_count": 47,
   "id": "874eb9c6-740c-4a7b-8a58-5a5e46c335c5",
   "metadata": {},
   "outputs": [
    {
     "name": "stdout",
     "output_type": "stream",
     "text": [
      "# interactions dans le train set : 65656\n",
      "# interactions dans le test set : 16415\n"
     ]
    }
   ],
   "source": [
    "clicks_train, clicks_test = train_test_split(\n",
    "    articles_filtered_clicks,\n",
    "    stratify=articles_filtered_clicks['user_id'],\n",
    "    test_size=0.2,\n",
    "    random_state=42\n",
    ")\n",
    "\n",
    "print(f\"# interactions dans le train set : {len(clicks_train)}\")\n",
    "print(f\"# interactions dans le test set : {len(clicks_test)}\")"
   ]
  },
  {
   "cell_type": "code",
   "execution_count": 48,
   "id": "bcf1bb32-e86f-4d8e-ba8b-bfde0f0ddf6f",
   "metadata": {},
   "outputs": [
    {
     "data": {
      "text/html": [
       "<div>\n",
       "<style scoped>\n",
       "    .dataframe tbody tr th:only-of-type {\n",
       "        vertical-align: middle;\n",
       "    }\n",
       "\n",
       "    .dataframe tbody tr th {\n",
       "        vertical-align: top;\n",
       "    }\n",
       "\n",
       "    .dataframe thead th {\n",
       "        text-align: right;\n",
       "    }\n",
       "</style>\n",
       "<table border=\"1\" class=\"dataframe\">\n",
       "  <thead>\n",
       "    <tr style=\"text-align: right;\">\n",
       "      <th></th>\n",
       "      <th>user_id</th>\n",
       "      <th>session_id</th>\n",
       "      <th>session_start</th>\n",
       "      <th>session_size</th>\n",
       "      <th>click_article_id</th>\n",
       "      <th>click_timestamp</th>\n",
       "      <th>click_environment</th>\n",
       "      <th>click_deviceGroup</th>\n",
       "      <th>click_os</th>\n",
       "      <th>click_country</th>\n",
       "      <th>click_region</th>\n",
       "      <th>click_referrer_type</th>\n",
       "    </tr>\n",
       "  </thead>\n",
       "  <tbody>\n",
       "    <tr>\n",
       "      <th>1010190</th>\n",
       "      <td>61067</td>\n",
       "      <td>1507229759345396</td>\n",
       "      <td>1507229759000</td>\n",
       "      <td>2</td>\n",
       "      <td>25325</td>\n",
       "      <td>1507229830563</td>\n",
       "      <td>4</td>\n",
       "      <td>1</td>\n",
       "      <td>17</td>\n",
       "      <td>1</td>\n",
       "      <td>17</td>\n",
       "      <td>2</td>\n",
       "    </tr>\n",
       "    <tr>\n",
       "      <th>2385111</th>\n",
       "      <td>44289</td>\n",
       "      <td>1507837951110768</td>\n",
       "      <td>1507837951000</td>\n",
       "      <td>2</td>\n",
       "      <td>324553</td>\n",
       "      <td>1507838173800</td>\n",
       "      <td>4</td>\n",
       "      <td>1</td>\n",
       "      <td>17</td>\n",
       "      <td>1</td>\n",
       "      <td>25</td>\n",
       "      <td>2</td>\n",
       "    </tr>\n",
       "    <tr>\n",
       "      <th>2141242</th>\n",
       "      <td>54970</td>\n",
       "      <td>1507726665266300</td>\n",
       "      <td>1507726665000</td>\n",
       "      <td>8</td>\n",
       "      <td>236524</td>\n",
       "      <td>1507750770715</td>\n",
       "      <td>4</td>\n",
       "      <td>1</td>\n",
       "      <td>17</td>\n",
       "      <td>1</td>\n",
       "      <td>21</td>\n",
       "      <td>2</td>\n",
       "    </tr>\n",
       "    <tr>\n",
       "      <th>805886</th>\n",
       "      <td>83163</td>\n",
       "      <td>1507137792390819</td>\n",
       "      <td>1507137792000</td>\n",
       "      <td>3</td>\n",
       "      <td>199411</td>\n",
       "      <td>1507145761970</td>\n",
       "      <td>4</td>\n",
       "      <td>1</td>\n",
       "      <td>17</td>\n",
       "      <td>1</td>\n",
       "      <td>9</td>\n",
       "      <td>2</td>\n",
       "    </tr>\n",
       "    <tr>\n",
       "      <th>2869201</th>\n",
       "      <td>19882</td>\n",
       "      <td>1508161388411926</td>\n",
       "      <td>1508161388000</td>\n",
       "      <td>2</td>\n",
       "      <td>212234</td>\n",
       "      <td>1508161390290</td>\n",
       "      <td>4</td>\n",
       "      <td>3</td>\n",
       "      <td>2</td>\n",
       "      <td>1</td>\n",
       "      <td>24</td>\n",
       "      <td>7</td>\n",
       "    </tr>\n",
       "  </tbody>\n",
       "</table>\n",
       "</div>"
      ],
      "text/plain": [
       "         user_id        session_id  session_start  session_size  \\\n",
       "1010190    61067  1507229759345396  1507229759000             2   \n",
       "2385111    44289  1507837951110768  1507837951000             2   \n",
       "2141242    54970  1507726665266300  1507726665000             8   \n",
       "805886     83163  1507137792390819  1507137792000             3   \n",
       "2869201    19882  1508161388411926  1508161388000             2   \n",
       "\n",
       "         click_article_id  click_timestamp  click_environment  \\\n",
       "1010190             25325    1507229830563                  4   \n",
       "2385111            324553    1507838173800                  4   \n",
       "2141242            236524    1507750770715                  4   \n",
       "805886             199411    1507145761970                  4   \n",
       "2869201            212234    1508161390290                  4   \n",
       "\n",
       "         click_deviceGroup  click_os  click_country  click_region  \\\n",
       "1010190                  1        17              1            17   \n",
       "2385111                  1        17              1            25   \n",
       "2141242                  1        17              1            21   \n",
       "805886                   1        17              1             9   \n",
       "2869201                  3         2              1            24   \n",
       "\n",
       "         click_referrer_type  \n",
       "1010190                    2  \n",
       "2385111                    2  \n",
       "2141242                    2  \n",
       "805886                     2  \n",
       "2869201                    7  "
      ]
     },
     "execution_count": 48,
     "metadata": {},
     "output_type": "execute_result"
    }
   ],
   "source": [
    "clicks_train.head()"
   ]
  },
  {
   "cell_type": "markdown",
   "id": "22b92c42-3a21-47fd-9c86-e411e00806be",
   "metadata": {},
   "source": [
    "Filtre pour ne conserver dans l'ensemble de test que des articles vus dans train:"
   ]
  },
  {
   "cell_type": "code",
   "execution_count": 49,
   "id": "143b517a-a353-471d-a694-37d384f570e0",
   "metadata": {},
   "outputs": [
    {
     "name": "stdout",
     "output_type": "stream",
     "text": [
      "# interactions dans le test set filtré : 15772\n"
     ]
    }
   ],
   "source": [
    "# Conserver uniquement les articles présents dans le train\n",
    "articles_train = set(clicks_train['click_article_id'].unique())\n",
    "clicks_test = clicks_test[clicks_test['click_article_id'].isin(articles_train)].copy()\n",
    "\n",
    "print(f\"# interactions dans le test set filtré : {len(clicks_test)}\")"
   ]
  },
  {
   "cell_type": "markdown",
   "id": "5449e6e4-8c7d-4b7f-93b4-6f0ba329d015",
   "metadata": {},
   "source": [
    "de la meme facon, reduire notre dataframe article_features avec uniquement les articles contenus dans les ensembles train et test:"
   ]
  },
  {
   "cell_type": "code",
   "execution_count": 50,
   "id": "f1bdc6aa-237f-4dea-9fbd-b1de33b3a4ad",
   "metadata": {},
   "outputs": [
    {
     "data": {
      "text/plain": [
       "7796"
      ]
     },
     "execution_count": 50,
     "metadata": {},
     "output_type": "execute_result"
    }
   ],
   "source": [
    "unique_articles = articles_filtered_clicks['click_article_id'].unique()\n",
    "len(unique_articles)"
   ]
  },
  {
   "cell_type": "code",
   "execution_count": 51,
   "id": "a095f9f2-5921-4ee0-b318-969f89b23221",
   "metadata": {},
   "outputs": [
    {
     "data": {
      "text/plain": [
       "7796"
      ]
     },
     "execution_count": 51,
     "metadata": {},
     "output_type": "execute_result"
    }
   ],
   "source": [
    "article_features_filtered = article_features.loc[unique_articles]\n",
    "len(article_features_filtered)"
   ]
  },
  {
   "cell_type": "markdown",
   "id": "e966dee2-a00c-4bde-927a-535d5bb01df7",
   "metadata": {},
   "source": [
    "outputs pour la fonction: \n",
    "* article_features.pkl\n",
    "* user_history.json sur la base des 1000 utilisateurs sélectionnés et les ensembles de train et test"
   ]
  },
  {
   "cell_type": "code",
   "execution_count": 52,
   "id": "55f6276a-78dd-467e-b56f-2b0468d6edd4",
   "metadata": {},
   "outputs": [],
   "source": [
    "# Chemin de destination\n",
    "output_path = r\"C:\\Users\\flore\\Openclassrooms\\Projet 10\\azure_function\\article_features.pkl\"\n",
    "# Sauvegarde au format pickle\n",
    "article_features_filtered.to_pickle(output_path)"
   ]
  },
  {
   "cell_type": "code",
   "execution_count": 53,
   "id": "21339865-41bb-43c0-91c0-91356b32f6ce",
   "metadata": {},
   "outputs": [
    {
     "name": "stdout",
     "output_type": "stream",
     "text": [
      "Fichier enregistré sous : C:\\Users\\flore\\Openclassrooms\\Projet 10\\azure_function\\user_history.json\n"
     ]
    }
   ],
   "source": [
    "output_path = r\"C:\\Users\\flore\\Openclassrooms\\Projet 10\\azure_function\\user_history.json\"\n",
    "\n",
    "# Dictionnaire des historiques utilisateur\n",
    "user_history_dict = {}\n",
    "\n",
    "for user_id in subset_users:\n",
    "    history = articles_filtered_clicks[articles_filtered_clicks['user_id'] == user_id]['click_article_id'].tolist()\n",
    "    if history:  # On ajoute seulement si l'utilisateur a un historique\n",
    "        user_history_dict[str(user_id)] = history  # Clés en string pour compatibilité JSON\n",
    "\n",
    "# Sauvegarde au format JSON\n",
    "with open(output_path, 'w', encoding='utf-8') as f:\n",
    "    json.dump(user_history_dict, f, indent=2)\n",
    "\n",
    "print(f\"Fichier enregistré sous : {output_path}\")"
   ]
  },
  {
   "cell_type": "markdown",
   "id": "6378b9b2-2567-49e9-8d88-5393176bd36b",
   "metadata": {},
   "source": [
    "# 4. Baseline: Popularité"
   ]
  },
  {
   "cell_type": "code",
   "execution_count": 54,
   "id": "5de1f682-2624-414d-a6bd-7dc19912f932",
   "metadata": {},
   "outputs": [],
   "source": [
    "class PopularityRecommender:\n",
    "\n",
    "    def __init__(self, train_df):\n",
    "        self.train_df = train_df\n",
    "        self.popularity_rank = self._build_popularity_rank()\n",
    "\n",
    "    def _build_popularity_rank(self):\n",
    "        article_counts = self.train_df[\"click_article_id\"].value_counts().reset_index()\n",
    "        article_counts.columns = ['click_article_id', 'score']\n",
    "        return article_counts\n",
    "\n",
    "    def recommend_items(self, user_id, items_to_ignore=[], topn=10):\n",
    "        # Recommandation des articles les plus populaires non encore vus\n",
    "        popular_items = self.popularity_rank[\n",
    "            ~self.popularity_rank['click_article_id'].isin(items_to_ignore)\n",
    "        ].sort_values('score', ascending=False).head(topn)\n",
    "        \n",
    "        return popular_items.reset_index(drop=True)\n",
    "\n",
    "    def get_model_name(self):\n",
    "        return \"Most Popular\""
   ]
  },
  {
   "cell_type": "code",
   "execution_count": 55,
   "id": "6207ac36-8c48-4b3c-a103-2b8db3c65863",
   "metadata": {},
   "outputs": [
    {
     "name": "stderr",
     "output_type": "stream",
     "text": [
      "Évaluation du modèle: 100%|████████████████████████████████████████████████████████████████████████████████████████████████| 1000/1000 [00:01<00:00, 955.63it/s]"
     ]
    },
    {
     "name": "stdout",
     "output_type": "stream",
     "text": [
      "Résultats de la baseline 'Most Popular' :\n",
      "{'recall@5': 0.0384, 'recall@10': 0.064, 'precision@5': 0.1136, 'precision@10': 0.0946, 'modelName': 'Most Popular'}\n"
     ]
    },
    {
     "name": "stderr",
     "output_type": "stream",
     "text": [
      "\n"
     ]
    }
   ],
   "source": [
    "popularity_model = PopularityRecommender(clicks_train)\n",
    "evaluator = ModelEvaluator(clicks_train, clicks_test, k_list=[5, 10])\n",
    "results = evaluator.evaluate_model(popularity_model)\n",
    "\n",
    "print(\"Résultats de la baseline 'Most Popular' :\")\n",
    "print(results)"
   ]
  },
  {
   "cell_type": "code",
   "execution_count": 56,
   "id": "3a40de7d-fa30-491e-ab88-f230a7b31274",
   "metadata": {},
   "outputs": [
    {
     "name": "stdout",
     "output_type": "stream",
     "text": [
      "Top 10 des articles les plus populaires :\n",
      "   click_article_id  score\n",
      "0            160974    433\n",
      "1            272143    431\n",
      "2            336221    377\n",
      "3            336223    315\n",
      "4            123909    305\n",
      "5            331116    286\n",
      "6            234698    281\n",
      "7            272660    270\n",
      "8            183176    264\n",
      "9             96210    263\n"
     ]
    }
   ],
   "source": [
    "# Top 10 des articles les plus populaires\n",
    "top_articles = popularity_model.popularity_rank.head(10)\n",
    "print(\"Top 10 des articles les plus populaires :\")\n",
    "print(top_articles)"
   ]
  },
  {
   "cell_type": "code",
   "execution_count": 57,
   "id": "013dd51e-bf6b-49ec-8c37-420aade073aa",
   "metadata": {},
   "outputs": [
    {
     "name": "stdout",
     "output_type": "stream",
     "text": [
      "Articles recommandés à l'utilisateur 59193 (popularity-based):\n",
      "   click_article_id  score\n",
      "0            336223    315\n",
      "1            123909    305\n",
      "2            331116    286\n",
      "3            234698    281\n",
      "4             96210    263\n",
      "5            199198    238\n",
      "6            336254    229\n",
      "7            235616    228\n",
      "8            336245    224\n",
      "9            289003    215\n",
      "\n",
      "Score moyen de similarité entre recommandations et historique : 0.2351\n"
     ]
    }
   ],
   "source": [
    "with mlflow.start_run(run_name=\"popularité\"):\n",
    "    user_id = 59193\n",
    "    \n",
    "    # Historique utilisateur\n",
    "    seen_articles = popularity_model.train_df[popularity_model.train_df['user_id'] == user_id]['click_article_id'].tolist()\n",
    "    \n",
    "    # Recommandations popularité\n",
    "    recommendations = popularity_model.recommend_items(user_id=user_id, items_to_ignore=seen_articles, topn=10)\n",
    "    content_model = ContentBasedRecommender(article_features_filtered)\n",
    "    \n",
    "    print(f\"Articles recommandés à l'utilisateur {user_id} (popularity-based):\")\n",
    "    print(recommendations)\n",
    "    \n",
    "    # Score moyen de similarité avec historique utilisateur\n",
    "    score = mean_similarity_score(content_model, seen_articles, recommendations)\n",
    "    print(f\"\\nScore moyen de similarité entre recommandations et historique : {score:.4f}\")\n",
    "\n",
    "    # Log des métriques\n",
    "    mlflow.log_metric(\"Similarité_histo\", score)\n"
   ]
  },
  {
   "cell_type": "markdown",
   "id": "20032aed-0d14-4491-afd4-75c710d3d400",
   "metadata": {},
   "source": [
    "# 5. Content-Based Filtering"
   ]
  },
  {
   "cell_type": "markdown",
   "id": "66d86568-9ca7-48f6-a5b2-680931cec347",
   "metadata": {},
   "source": [
    "## 5.1. Représentation de l'utilisateur"
   ]
  },
  {
   "cell_type": "markdown",
   "id": "50569d6e-a875-405a-9c8f-08a5dc0e7713",
   "metadata": {},
   "source": [
    "Option A : Moyenne des embeddings des articles qu'il a lus"
   ]
  },
  {
   "cell_type": "code",
   "execution_count": 58,
   "id": "604699e3-3843-4b99-8d05-2c98fbbe3678",
   "metadata": {},
   "outputs": [],
   "source": [
    "def get_user_profile_avg(user_id, clicks_df, article_embeddings):\n",
    "    # Articles cliqués par l'utilisateur\n",
    "    user_clicks = clicks_df[clicks_df[\"user_id\"] == user_id][\"click_article_id\"]\n",
    "    \n",
    "    vectors = [article_embeddings[aid] for aid in user_clicks if aid in article_embeddings]\n",
    "    \n",
    "    if not vectors:\n",
    "        return None  # Aucun embedding dispo\n",
    "    return np.mean(vectors, axis=0)"
   ]
  },
  {
   "cell_type": "markdown",
   "id": "bbc27530-bb7f-436a-9e9a-dd9c810dac8a",
   "metadata": {},
   "source": [
    "Option B: Moyenne pondérée par récence"
   ]
  },
  {
   "cell_type": "code",
   "execution_count": 59,
   "id": "0fdd58e5-7aff-459a-985f-f1bcc073f0eb",
   "metadata": {},
   "outputs": [],
   "source": [
    "def get_user_profile_weighted(user_id, clicks_df, article_embeddings):\n",
    "    user_clicks = clicks_df[clicks_df[\"user_id\"] == user_id].sort_values(\"click_timestamp\")\n",
    "    vectors = []\n",
    "    weights = []\n",
    "    for i, row in user_clicks.iterrows():\n",
    "        aid = row[\"click_article_id\"]\n",
    "        if aid in article_embeddings:\n",
    "            vectors.append(article_embeddings[aid])\n",
    "            weights.append(1.0 / (1 + (clicks_df[\"click_timestamp\"].max() - row[\"click_timestamp\"])))\n",
    "    if not vectors:\n",
    "        return None\n",
    "    return np.average(vectors, axis=0, weights=weights)"
   ]
  },
  {
   "cell_type": "markdown",
   "id": "e7792b91-fbc3-4a80-843b-c7407c6d06dd",
   "metadata": {},
   "source": [
    "## 5.2 Calculer la similarité avec tous les articles"
   ]
  },
  {
   "cell_type": "markdown",
   "id": "cefdedb4-ba15-4c43-9dfd-ac90c3565d4f",
   "metadata": {},
   "source": [
    "Reco"
   ]
  },
  {
   "cell_type": "code",
   "execution_count": 60,
   "id": "48503f9d-72e9-41d4-bfbb-322e82a72271",
   "metadata": {},
   "outputs": [],
   "source": [
    "# def recommend_articles(user_vector, article_embeddings, top_k=10):\n",
    "#     \"\"\"\n",
    "#     Donne les top_k articles les plus similaires à un vecteur utilisateur donné.\n",
    "\n",
    "#     Params:\n",
    "#         user_vector: np.array de taille (250,)\n",
    "#         article_embeddings: dict {article_id: embedding (np.array)}\n",
    "#         top_k: nombre de recommandations à retourner\n",
    "\n",
    "#     Returns:\n",
    "#         Liste de tuples (article_id, similarité), triée par ordre décroissant de similarité\n",
    "#     \"\"\"\n",
    "#     article_ids = list(article_embeddings.keys())\n",
    "#     article_vectors = np.array([article_embeddings[aid] for aid in article_ids])\n",
    "\n",
    "#     # Reshape user_vector pour correspondre à (1, 250)\n",
    "#     user_vector = user_vector.reshape(1, -1)\n",
    "\n",
    "#     # Calcul de similarité cosinus\n",
    "#     similarities = cosine_similarity(user_vector, article_vectors)[0]  # shape: (num_articles,)\n",
    "\n",
    "#     # Associer chaque article à sa similarité\n",
    "#     scored_articles = list(zip(article_ids, similarities))\n",
    "\n",
    "#     # Trier par similarité décroissante\n",
    "#     scored_articles.sort(key=lambda x: x[1], reverse=True)\n",
    "\n",
    "#     return scored_articles[:top_k]"
   ]
  },
  {
   "cell_type": "code",
   "execution_count": 61,
   "id": "563d1eae-bb49-4ff0-b753-6db0d3b63c71",
   "metadata": {},
   "outputs": [],
   "source": [
    "def recommend_articles(user_vector, article_embeddings, top_k=10, allowed_article_ids=None):\n",
    "    \"\"\"\n",
    "    Donne les top_k articles les plus similaires à un vecteur utilisateur donné.\n",
    "\n",
    "    Params:\n",
    "        user_vector: np.array de taille (250,)\n",
    "        article_embeddings: dict {article_id: embedding (np.array)}\n",
    "        top_k: nombre de recommandations à retourner\n",
    "\n",
    "    Returns:\n",
    "        Liste de tuples (article_id, similarité), triée par ordre décroissant de similarité\n",
    "    \"\"\"\n",
    "    if allowed_article_ids is not None:\n",
    "        article_ids = [aid for aid in article_embeddings.keys() if aid in allowed_article_ids]\n",
    "    else:\n",
    "        article_ids = list(article_embeddings.keys())\n",
    "        \n",
    "    article_vectors = np.array([article_embeddings[aid] for aid in article_ids])\n",
    "    user_vector = user_vector.reshape(1, -1)\n",
    "\n",
    "    similarities = cosine_similarity(user_vector, article_vectors)[0]\n",
    "    scored_articles = list(zip(article_ids, similarities))\n",
    "    scored_articles.sort(key=lambda x: x[1], reverse=True)\n",
    "\n",
    "    return scored_articles[:top_k]"
   ]
  },
  {
   "cell_type": "code",
   "execution_count": null,
   "id": "f632138b-e484-4ca5-b7c8-b4fb5a3eef81",
   "metadata": {},
   "outputs": [],
   "source": []
  },
  {
   "cell_type": "code",
   "execution_count": 62,
   "id": "239e3003-d612-4484-82c2-58298366af5a",
   "metadata": {},
   "outputs": [
    {
     "name": "stdout",
     "output_type": "stream",
     "text": [
      "Article 195037 - Similarité : 0.769\n",
      "Article 124444 - Similarité : 0.763\n",
      "Article 177749 - Similarité : 0.757\n",
      "Article 217852 - Similarité : 0.753\n",
      "Article 132566 - Similarité : 0.753\n",
      "Article 362272 - Similarité : 0.751\n",
      "Article 362558 - Similarité : 0.744\n",
      "Article 129147 - Similarité : 0.736\n",
      "Article 124337 - Similarité : 0.734\n",
      "Article 123758 - Similarité : 0.734\n",
      "\n",
      "Score moyen de similarité entre recommandations et historique : 0.3780\n"
     ]
    }
   ],
   "source": [
    "with mlflow.start_run(run_name=\"content_based_filtering_avg\"):\n",
    "    \n",
    "    user_id = 59193\n",
    "    # Étape 1 : Construction du vecteur utilisateur (moyenne des embeddings des articles lus)\n",
    "    user_vector = get_user_profile_avg(user_id, clicks, article_embeddings)\n",
    "    \n",
    "    # Étape 2 : Recommandation\n",
    "    allowed_ids = set(content_model.similarity_matrix.index)\n",
    "    recommendations = recommend_articles(user_vector, article_embeddings, top_k=10, allowed_article_ids=allowed_ids)\n",
    "    \n",
    "    for article_id, score in recommendations:\n",
    "        print(f\"Article {article_id} - Similarité : {score:.3f}\")\n",
    "    \n",
    "    # Conversion en DataFrame pour être compatible avec mean_similarity_score\n",
    "    recommendations_df = pd.DataFrame(recommendations, columns=[\"click_article_id\", \"similarity_score\"])\n",
    "    content_model = ContentBasedRecommender(article_features_filtered)\n",
    "    \n",
    "    # Historique utilisateur\n",
    "    seen_articles = popularity_model.train_df[popularity_model.train_df['user_id'] == user_id]['click_article_id'].tolist()\n",
    "    \n",
    "    # Score moyen de similarité avec historique utilisateur\n",
    "    score = mean_similarity_score(content_model, seen_articles, recommendations_df)\n",
    "    print(f\"\\nScore moyen de similarité entre recommandations et historique : {score:.4f}\")\n",
    "\n",
    "    # Log des métriques\n",
    "    mlflow.log_metric(\"Similarité_histo\", score)"
   ]
  },
  {
   "cell_type": "markdown",
   "id": "68b8f276-5471-4f43-95d2-2f69e7e32478",
   "metadata": {},
   "source": [
    "les articles recommandés sont assortis d'un score \"similarité\" qui correspond à la similarité entre l'article et le vecteur représentatif de l'utilisateur. Nous allons maintennant mesurer la similarité entre recos et historique de l'utilisateur"
   ]
  },
  {
   "cell_type": "code",
   "execution_count": null,
   "id": "a82ae33a-20e9-4719-8262-c46eff47364d",
   "metadata": {},
   "outputs": [],
   "source": []
  },
  {
   "cell_type": "markdown",
   "id": "197fa6f0-e880-4efb-9d99-3e08209c1c2d",
   "metadata": {},
   "source": [
    "V2 avec un profil utilisateur pondéré (récence)"
   ]
  },
  {
   "cell_type": "code",
   "execution_count": 63,
   "id": "e26dbd76-1db0-46e3-bcc5-8677a7269d72",
   "metadata": {},
   "outputs": [
    {
     "name": "stdout",
     "output_type": "stream",
     "text": [
      "Article 195037 - Similarité : 0.771\n",
      "Article 124444 - Similarité : 0.762\n",
      "Article 177749 - Similarité : 0.759\n",
      "Article 217852 - Similarité : 0.755\n",
      "Article 132566 - Similarité : 0.755\n",
      "Article 362272 - Similarité : 0.753\n",
      "Article 362558 - Similarité : 0.746\n",
      "Article 129147 - Similarité : 0.735\n",
      "Article 123301 - Similarité : 0.734\n",
      "Article 123758 - Similarité : 0.734\n",
      "\n",
      "Score moyen de similarité entre recommandations et historique : 0.3774\n"
     ]
    }
   ],
   "source": [
    "with mlflow.start_run(run_name=\"content_based_filtering_weighted\"):\n",
    "\n",
    "\n",
    "    # Étape 1 : Construction du vecteur utilisateur (moyenne des embeddings des articles lus, pondérée par récence)\n",
    "    user_vector = get_user_profile_weighted(user_id, clicks, article_embeddings)\n",
    "    \n",
    "    # Étape 2 : Recommandation\n",
    "    allowed_ids = set(content_model.similarity_matrix.index)\n",
    "    recommendations = recommend_articles(user_vector, article_embeddings, top_k=10, allowed_article_ids=allowed_ids)\n",
    "    \n",
    "    # Affichage\n",
    "    for article_id, score in recommendations:\n",
    "        print(f\"Article {article_id} - Similarité : {score:.3f}\")\n",
    "\n",
    "        # Conversion en DataFrame pour être compatible avec mean_similarity_score\n",
    "    recommendations_df = pd.DataFrame(recommendations, columns=[\"click_article_id\", \"similarity_score\"])\n",
    "    \n",
    "    # Score moyen de similarité avec historique utilisateur\n",
    "    score = mean_similarity_score(content_model, seen_articles, recommendations_df)\n",
    "    print(f\"\\nScore moyen de similarité entre recommandations et historique : {score:.4f}\")\n",
    "\n",
    "    # Log des métriques\n",
    "    mlflow.log_metric(\"Similarité_histo\", score)"
   ]
  },
  {
   "cell_type": "code",
   "execution_count": null,
   "id": "e0e51185-0d85-40d5-a995-ca766e14d495",
   "metadata": {},
   "outputs": [],
   "source": []
  },
  {
   "cell_type": "markdown",
   "id": "8f26c992-e6b2-4a3d-903a-d72a99f4f689",
   "metadata": {},
   "source": [
    "## 5.3 ContentBasedRecommender via matrice de similarité"
   ]
  },
  {
   "cell_type": "markdown",
   "id": "e6fd25ea-065a-49c0-83b1-68511d24d441",
   "metadata": {},
   "source": [
    "Ici nous allons utiliser la class ContentBasedRocemmender.\n",
    "Cette solution est déployée pour tenter de mesurer recall et precision@k de ContentBasedRecommender via matrice de similarité sur une multitude d'utilisateurs.\n",
    "\n",
    "Cette solution gère la moyenne des embeddings des articles lus par l'utilisateur, implicitement via la mean() des similarités.\n",
    "On utilise des vecteurs d’articles vs profil utilisateur (mean) mais dans cette version \"classe\",  l’accès au vecteur est délégué à un objet .get_article_vector(), ce qui permet (par ex) de recalculer les embeddings à la volée, les normaliser, ou ajouter des logs."
   ]
  },
  {
   "cell_type": "markdown",
   "id": "fb84517c-df5a-4fe8-b3b6-820adc0769a5",
   "metadata": {},
   "source": [
    "Etapes:\n",
    "> * Pré-calcul de la matrice de similarité entre articles (cosine).\n",
    "> * Recommandation par agrégation des similarités des articles vus par l’utilisateur.\n",
    "> * Filtrage des articles déjà vus.\n",
    "> * Fonction recommend_items() rapide et vectorisée.\n",
    "> * Intégration dans un ModelEvaluator rapide."
   ]
  },
  {
   "cell_type": "code",
   "execution_count": null,
   "id": "d42fbc81-a6f1-4772-b3c6-71ea840a5bae",
   "metadata": {},
   "outputs": [],
   "source": []
  },
  {
   "cell_type": "code",
   "execution_count": 64,
   "id": "c2b6c6eb-f7c1-4ba0-bdb8-ee20c27dfbe8",
   "metadata": {},
   "outputs": [
    {
     "name": "stderr",
     "output_type": "stream",
     "text": [
      "Évaluation du modèle: 100%|███████████████████████████████████████████████████████████████████████████████████████████████| 1000/1000 [00:00<00:00, 1659.32it/s]"
     ]
    },
    {
     "name": "stdout",
     "output_type": "stream",
     "text": [
      "{'recall@5': 0.0, 'recall@10': 0.0, 'precision@5': 0.0, 'precision@10': 0.0, 'modelName': 'ContentBasedRecommender'}\n"
     ]
    },
    {
     "name": "stderr",
     "output_type": "stream",
     "text": [
      "\n"
     ]
    }
   ],
   "source": [
    "cb_model = ContentBasedRecommender(article_features=article_features_filtered)\n",
    "evaluator = ModelEvaluator(train_df=clicks_train, test_df=clicks_test, k_list=[5, 10])\n",
    "\n",
    "results_cb = evaluator.evaluate_model(cb_model)\n",
    "print(results_cb)"
   ]
  },
  {
   "cell_type": "code",
   "execution_count": 65,
   "id": "3697612b-abd6-4655-9fa1-da1e8f4ed2ad",
   "metadata": {
    "scrolled": true
   },
   "outputs": [
    {
     "name": "stdout",
     "output_type": "stream",
     "text": [
      "Articles vus en train par l'utilisateur 59193 : [31520, 128988, 30389, 13579, 145166, 313504, 97546, 9690, 293432, 184091, 32292, 48409, 236969, 199197, 360959, 158646, 187445, 30083, 273473, 284583, 277107, 3598, 71500, 128623, 276946, 145772, 214283, 162655, 336220, 141281, 123757, 140772, 96244, 284844, 133160, 336221, 288435, 214322, 136156, 16087, 119197, 324823, 136101, 123826, 243256, 284773, 133112, 74722, 129364, 156560, 124751, 214744, 336801, 140450, 352901, 15653, 288741, 123614, 136768, 50569, 124350, 30714, 132631, 293513, 64346, 331314, 2628, 162107, 175476, 141517, 129305, 128707, 141956, 7694, 140824, 214600, 128957, 119102, 183176, 59867, 285101, 292552, 141004, 258446, 158536, 124228, 145692, 285333, 272143, 133141, 124734, 128710, 220042, 336286, 233595, 214631, 201815, 218183, 119117, 123559, 157478, 211722, 140971, 140515, 159762, 119107, 326732, 241954, 199207, 337438, 227557, 353847, 119192, 124194, 129004, 136610, 270228, 32750, 107272, 234128, 25325, 132801, 10372, 3329, 285638, 214471, 285298, 141239, 20691, 299626, 157043, 114796, 277257, 84136, 235652, 36208, 300470, 140926, 214129, 307779, 140443, 160417, 353673, 315104, 32755, 129513, 32761, 157702, 293062, 124233, 124176, 337082, 132527, 250063, 31318, 128260, 337442, 128551, 174119, 235347, 300082, 285377, 128957, 257291, 141412, 282875, 58565, 124732, 57616, 160142, 96940, 288794, 160974, 157375, 121784, 276970, 129021, 144979, 140210, 156964, 2647, 293301, 140324, 288320, 145648, 96214, 332461, 198659, 119125, 4568, 214097, 353025, 123564, 129591, 333211, 168505, 233736, 277492, 84061, 3171, 166377, 145109, 140445, 140686, 183020, 304093, 137162, 337192, 261201, 16129, 337651, 331811, 289090, 96653, 216176, 234956, 177390, 121637, 95972, 119165, 233717, 140524, 160974, 236610, 166462, 141128, 123289, 59057, 118444, 283041, 254489, 258184, 128550, 271770, 141540, 271674, 96480, 4708, 29813, 96077, 128907, 36898, 47769, 168623, 129370, 195009, 288977, 136855, 362272, 136586, 144879, 144894, 299764, 136263, 162179, 212011, 140595, 299152, 293050, 140852, 235069, 140452, 257291, 5292, 272660, 234195, 293191, 323683, 59228, 342100]\n",
      "Articles vus en test : [336223, 237580, 129424, 288484, 286077, 236613, 199844, 83841, 282875, 182469, 140324, 114440, 234698, 182394, 36394, 123758, 119600, 205832, 285045, 216380, 141414, 156619, 118618, 32655, 129165, 120967, 118753, 234291, 141113, 284178, 331737, 308156, 298820, 187065, 114562, 157702, 303658, 313431, 141004, 233478, 3240, 362914, 235854, 118856, 123909, 87228, 83565, 237612, 166430, 95977, 118514, 96391, 96152, 129158, 256117, 140985, 286108, 284191, 351517, 140907, 123909, 140451, 124353, 113978, 119534]\n",
      "Articles recommandés :    click_article_id     score\n",
      "0            195037  0.383797\n",
      "1            362272  0.382017\n",
      "2            132566  0.381300\n",
      "3            124444  0.381026\n",
      "4            217852  0.380492\n",
      "5            362558  0.379883\n",
      "6            124337  0.378374\n",
      "7            177749  0.376588\n",
      "8            176770  0.376493\n",
      "9            123301  0.372567\n",
      "0 Articles en commun   : []\n",
      "\n",
      "Score moyen de similarité entre recommandations et historique : 0.3793\n"
     ]
    }
   ],
   "source": [
    "with mlflow.start_run(run_name=\"content_based_filtering_matrix\"):\n",
    "    user_id = 59193 #clicks_test['user_id'].iloc[2]\n",
    "    user_history = clicks_train[clicks_train['user_id'] == user_id]['click_article_id'].tolist()\n",
    "    \n",
    "    print(f\"Articles vus en train par l'utilisateur {user_id} : {user_history}\")\n",
    "    \n",
    "    recommendations = cb_model.recommend_items(\n",
    "        user_id=user_id,\n",
    "        items_to_ignore=user_history,\n",
    "        topn=10,\n",
    "        user_history=user_history\n",
    "    )\n",
    "    \n",
    "    \n",
    "    seen_test = clicks_test[clicks_test['user_id'] == user_id]['click_article_id'].tolist()\n",
    "    \n",
    "    # Articles en commun\n",
    "    common = set(seen_test) & set(recommendations['click_article_id'].astype(int))\n",
    "    print(\"Articles vus en test :\", seen_test)\n",
    "    print(\"Articles recommandés :\", recommendations)\n",
    "    print(len(common),f\"Articles en commun   :\", list(common))\n",
    "\n",
    "    # Score moyen de similarité avec historique utilisateur\n",
    "    score = mean_similarity_score(content_model, seen_articles, recommendations)\n",
    "    print(f\"\\nScore moyen de similarité entre recommandations et historique : {score:.4f}\")\n",
    "\n",
    "    # Log des métriques\n",
    "    mlflow.log_metric(\"Similarité_histo\", score)"
   ]
  },
  {
   "cell_type": "code",
   "execution_count": null,
   "id": "3d9597dc-07cc-4268-9eb0-a3357918d7f9",
   "metadata": {},
   "outputs": [],
   "source": []
  },
  {
   "cell_type": "markdown",
   "id": "ff505492-c241-4406-a78a-4feb6fc2817a",
   "metadata": {},
   "source": [
    "Check des articles réellement vus dans test par l'utilisateur:"
   ]
  },
  {
   "cell_type": "code",
   "execution_count": 66,
   "id": "340cf04b-2e95-43d7-9fbc-a4f5273a2310",
   "metadata": {
    "scrolled": true
   },
   "outputs": [
    {
     "name": "stdout",
     "output_type": "stream",
     "text": [
      "Article 336223 - Similarité moyenne avec l’historique : 0.1961\n",
      "Article 237580 - Similarité moyenne avec l’historique : 0.1599\n",
      "Article 129424 - Similarité moyenne avec l’historique : 0.2872\n",
      "Article 288484 - Similarité moyenne avec l’historique : 0.2673\n",
      "Article 286077 - Similarité moyenne avec l’historique : 0.2919\n",
      "Article 236613 - Similarité moyenne avec l’historique : 0.2488\n",
      "Article 199844 - Similarité moyenne avec l’historique : 0.2907\n",
      "Article 83841 - Similarité moyenne avec l’historique : 0.2279\n",
      "Article 282875 - Similarité moyenne avec l’historique : 0.2088\n",
      "Article 182469 - Similarité moyenne avec l’historique : 0.2737\n",
      "Article 140324 - Similarité moyenne avec l’historique : 0.2429\n",
      "Article 114440 - Similarité moyenne avec l’historique : 0.2201\n",
      "Article 234698 - Similarité moyenne avec l’historique : 0.2000\n",
      "Article 182394 - Similarité moyenne avec l’historique : 0.3212\n",
      "Article 36394 - Similarité moyenne avec l’historique : 0.3249\n",
      "Article 123758 - Similarité moyenne avec l’historique : 0.3646\n",
      "Article 119600 - Similarité moyenne avec l’historique : 0.2824\n",
      "Article 205832 - Similarité moyenne avec l’historique : 0.1161\n",
      "Article 285045 - Similarité moyenne avec l’historique : 0.2213\n",
      "Article 216380 - Similarité moyenne avec l’historique : 0.2184\n",
      "Article 141414 - Similarité moyenne avec l’historique : 0.2900\n",
      "Article 156619 - Similarité moyenne avec l’historique : 0.2101\n",
      "Article 118618 - Similarité moyenne avec l’historique : 0.2719\n",
      "Article 32655 - Similarité moyenne avec l’historique : 0.3043\n",
      "Article 129165 - Similarité moyenne avec l’historique : 0.3003\n",
      "Article 120967 - Similarité moyenne avec l’historique : 0.3402\n",
      "Article 118753 - Similarité moyenne avec l’historique : 0.2541\n",
      "Article 234291 - Similarité moyenne avec l’historique : 0.2412\n",
      "Article 141113 - Similarité moyenne avec l’historique : 0.2576\n",
      "Article 284178 - Similarité moyenne avec l’historique : 0.3460\n",
      "Article 331737 - Similarité moyenne avec l’historique : 0.3052\n",
      "Article 308156 - Similarité moyenne avec l’historique : 0.2175\n",
      "Article 298820 - Similarité moyenne avec l’historique : 0.2811\n",
      "Article 187065 - Similarité moyenne avec l’historique : 0.2097\n",
      "Article 114562 - Similarité moyenne avec l’historique : 0.1899\n",
      "Article 157702 - Similarité moyenne avec l’historique : 0.1900\n",
      "Article 303658 - Similarité moyenne avec l’historique : 0.2529\n",
      "Article 313431 - Similarité moyenne avec l’historique : 0.2342\n",
      "Article 141004 - Similarité moyenne avec l’historique : 0.3381\n",
      "Article 233478 - Similarité moyenne avec l’historique : 0.2789\n",
      "Article 3240 - Similarité moyenne avec l’historique : 0.1872\n",
      "Article 362914 - Similarité moyenne avec l’historique : 0.2646\n",
      "Article 235854 - Similarité moyenne avec l’historique : 0.2897\n",
      "Article 118856 - Similarité moyenne avec l’historique : 0.2259\n",
      "Article 123909 - Similarité moyenne avec l’historique : 0.3266\n",
      "Article 87228 - Similarité moyenne avec l’historique : 0.1755\n",
      "Article 83565 - Similarité moyenne avec l’historique : 0.2188\n",
      "Article 237612 - Similarité moyenne avec l’historique : 0.1909\n",
      "Article 166430 - Similarité moyenne avec l’historique : 0.1530\n",
      "Article 95977 - Similarité moyenne avec l’historique : 0.2502\n",
      "Article 118514 - Similarité moyenne avec l’historique : 0.2577\n",
      "Article 96391 - Similarité moyenne avec l’historique : 0.2043\n",
      "Article 96152 - Similarité moyenne avec l’historique : 0.2589\n",
      "Article 129158 - Similarité moyenne avec l’historique : 0.3353\n",
      "Article 256117 - Similarité moyenne avec l’historique : 0.2242\n",
      "Article 140985 - Similarité moyenne avec l’historique : 0.2810\n",
      "Article 286108 - Similarité moyenne avec l’historique : 0.2829\n",
      "Article 284191 - Similarité moyenne avec l’historique : 0.2834\n",
      "Article 351517 - Similarité moyenne avec l’historique : 0.2484\n",
      "Article 140907 - Similarité moyenne avec l’historique : 0.3101\n",
      "Article 140451 - Similarité moyenne avec l’historique : 0.2846\n",
      "Article 124353 - Similarité moyenne avec l’historique : 0.3159\n",
      "Article 113978 - Similarité moyenne avec l’historique : 0.2550\n",
      "Article 119534 - Similarité moyenne avec l’historique : 0.2770\n"
     ]
    }
   ],
   "source": [
    "user_history = [int(i) for i in clicks_train[clicks_train['user_id'] == user_id]['click_article_id'].unique()]\n",
    "seen_test = [int(i) for i in clicks_test[clicks_test['user_id'] == user_id]['click_article_id'].unique()]\n",
    "\n",
    "for article in seen_test:\n",
    "    if article in cb_model.similarity_matrix.index:\n",
    "        similarity_with_history = cb_model.similarity_matrix.loc[user_history, article].mean()\n",
    "        print(f\"Article {article} - Similarité moyenne avec l’historique : {similarity_with_history:.4f}\")"
   ]
  },
  {
   "cell_type": "markdown",
   "id": "6b5d7f49-de93-4a46-9e09-a628626346ae",
   "metadata": {},
   "source": [
    "**Avantages :**\n",
    "\n",
    "* Indépendance de l'utilisateur : Contrairement au filtrage collaboratif qui s'appuie sur les évaluations d'autres utilisateurs, le filtrage basé sur le contenu analyse uniquement les articles et le profil d'un seul utilisateur, simplifiant le processus et offrant des résultats plus fiables même avec peu d'utilisateurs.\n",
    "* Transparence : Les recommandations sont basées sur les caractéristiques des articles, offrant une compréhension claire des raisons derrière les suggestions, contrairement au filtrage collaboratif qui repose sur des utilisateurs inconnus aux goûts similaires.\n",
    "* Pas de Cold start : Les nouveaux articles peuvent être suggérés avant d'avoir été évalués par un grand nombre d'utilisateurs, ce qui n'est pas possible avec le filtrage collaboratif.\n",
    "\n",
    "**Inconvénients :**\n",
    "\n",
    "* Analyse de contenu limitée : Si le contenu ne contient pas suffisamment d'informations pour distinguer précisément les articles, les recommandations risquent d'être imprécises.\n",
    "* Sur-spécialisation : Le filtrage basé sur le contenu offre peu de nouveauté car il doit faire correspondre les caractéristiques du profil de l'utilisateur avec les articles disponibles. Un système parfait pourrait ne jamais suggérer quelque chose d'inattendu ou de surprenant."
   ]
  },
  {
   "cell_type": "markdown",
   "id": "82f7ad54-7607-4587-897d-dd7edfc4f36e",
   "metadata": {},
   "source": [
    "# 6. Memory-based Collaborative Filtering (avec Surprise)"
   ]
  },
  {
   "cell_type": "code",
   "execution_count": null,
   "id": "9336357b-e32d-4880-8aca-05e4b017083c",
   "metadata": {},
   "outputs": [],
   "source": []
  },
  {
   "cell_type": "markdown",
   "id": "50cbdd33-f136-430c-8406-d51d620d54a3",
   "metadata": {},
   "source": [
    "## 6.1 Item-based KNN"
   ]
  },
  {
   "cell_type": "markdown",
   "id": "71b78ddc-6746-4fb1-8afa-8128efad42d0",
   "metadata": {},
   "source": [
    "Je rencontre des problème mémoire du fait du nombre trop important d'articles dans la base. \n",
    "De ce fait, nous allons exlure de l'analyse les articles peu cliqués de la base de données."
   ]
  },
  {
   "cell_type": "code",
   "execution_count": 67,
   "id": "283ed3d9-9f6d-46cf-8259-313d4f9b7ced",
   "metadata": {},
   "outputs": [],
   "source": [
    "# # Compter le nombre de clics par article\n",
    "# article_counts = clicks[\"click_article_id\"].value_counts()\n",
    "\n",
    "# # Garder uniquement les articles avec au moins 20 clics\n",
    "# filtered_articles = article_counts[article_counts > 2].index"
   ]
  },
  {
   "cell_type": "code",
   "execution_count": 68,
   "id": "ff82902b-8643-4b77-8324-bac27388276b",
   "metadata": {},
   "outputs": [],
   "source": [
    "# print(f\"Nb d'articles initiaux:\",len(article_counts))\n",
    "# print(f\"Nb d'articles après filtre:\",len(filtered_articles))"
   ]
  },
  {
   "cell_type": "code",
   "execution_count": 69,
   "id": "be15e118-b3d9-4369-bf4e-9a07619201ef",
   "metadata": {},
   "outputs": [],
   "source": [
    "# # Garder seulement les lignes où l'article est populaire\n",
    "# filtered_clicks = clicks[clicks[\"click_article_id\"].isin(filtered_articles)].copy()"
   ]
  },
  {
   "cell_type": "code",
   "execution_count": 70,
   "id": "d10c9aca-3908-46c1-b358-bd03940f6d3c",
   "metadata": {},
   "outputs": [],
   "source": [
    "articles_filtered_clicks[\"rating\"] = 1  \n",
    "\n",
    "reader = Reader(rating_scale=(1, 1))\n",
    "data = Dataset.load_from_df(articles_filtered_clicks[[\"user_id\", \"click_article_id\", \"rating\"]], reader)\n",
    "trainset = data.build_full_trainset()"
   ]
  },
  {
   "cell_type": "code",
   "execution_count": 71,
   "id": "5644b07b-d9d7-4686-a5f2-d82544a66868",
   "metadata": {},
   "outputs": [
    {
     "name": "stdout",
     "output_type": "stream",
     "text": [
      "Computing the cosine similarity matrix...\n",
      "Done computing similarity matrix.\n"
     ]
    },
    {
     "data": {
      "text/plain": [
       "<surprise.prediction_algorithms.knns.KNNBasic at 0x1de58b6f380>"
      ]
     },
     "execution_count": 71,
     "metadata": {},
     "output_type": "execute_result"
    }
   ],
   "source": [
    "sim_options = {'name': 'cosine', 'user_based': False}\n",
    "model = KNNBasic(sim_options=sim_options)\n",
    "\n",
    "model.fit(trainset)"
   ]
  },
  {
   "cell_type": "code",
   "execution_count": 72,
   "id": "b981072e-313d-44a5-ac2f-9fc64b7d0640",
   "metadata": {},
   "outputs": [
    {
     "name": "stdout",
     "output_type": "stream",
     "text": [
      "Articles similaires recommandés (item-based): [337763, 272660, 118180, 160974, 158536, 87173, 300470, 162655, 225463, 336429]\n",
      "\n",
      "Score moyen de similarité entre recommandations et historique : 0.2324\n"
     ]
    }
   ],
   "source": [
    "with mlflow.start_run(run_name=\"item_based_KNN\"):\n",
    "    # Prédiction pour un utilisateur:\n",
    "    user_id = 59193\n",
    "    \n",
    "    user_inner_id = trainset.to_inner_uid(user_id)\n",
    "    user_ratings = model.get_neighbors(user_inner_id, k=10)\n",
    "    \n",
    "    # Convertir les inner IDs en vrais article_ids\n",
    "    recommended_article_ids = [trainset.to_raw_iid(inner_id) for inner_id in user_ratings]\n",
    "    \n",
    "    print(f\"Articles similaires recommandés (item-based): {recommended_article_ids}\")\n",
    "    \n",
    "    # conversion des recos dans un DataFrame\n",
    "    recommendations_df = pd.DataFrame({'click_article_id': recommended_article_ids})\n",
    "    \n",
    "    # Score moyen de similarité avec historique utilisateur\n",
    "    score = mean_similarity_score(content_model, seen_articles, recommendations_df)\n",
    "    print(f\"\\nScore moyen de similarité entre recommandations et historique : {score:.4f}\")\n",
    "\n",
    "    # Log des métriques\n",
    "    mlflow.log_metric(\"Similarité_histo\", score)"
   ]
  },
  {
   "cell_type": "markdown",
   "id": "0e2dc006-96b7-438c-b794-185b0abe7871",
   "metadata": {},
   "source": [
    "## 6.2 User-based KNN"
   ]
  },
  {
   "cell_type": "markdown",
   "id": "683ac56d-8294-468e-b02f-1f11f9cd9816",
   "metadata": {},
   "source": [
    "Même soucis de mémoire, cette fois-ci du fait du nombre trop important d'utilisateurs dans la base. \n",
    "De ce fait, nous allons exlure de l'analyse les utilisateurs qui ont le moins de clics."
   ]
  },
  {
   "cell_type": "code",
   "execution_count": 73,
   "id": "7b6f4569-c594-4a37-9994-fb060084f0d2",
   "metadata": {},
   "outputs": [],
   "source": [
    "# # Compter le nombre de clics par user\n",
    "# user_click_counts = clicks['user_id'].value_counts()\n",
    "\n",
    "# # Garder uniquement les articles avec au moins 20 clics\n",
    "# filtered_users = user_click_counts[user_click_counts > 50].index"
   ]
  },
  {
   "cell_type": "code",
   "execution_count": 74,
   "id": "1e6db1c9-1a7d-4906-bf55-cf5534847e44",
   "metadata": {},
   "outputs": [],
   "source": [
    "# print(f\"Nb de users initiaux:\",len(user_click_counts))\n",
    "# print(f\"Nb de users après filtre:\",len(filtered_users))"
   ]
  },
  {
   "cell_type": "code",
   "execution_count": 75,
   "id": "6d6400a2-da8a-4888-aae2-c22d79c62454",
   "metadata": {},
   "outputs": [],
   "source": [
    "# # Garder seulement les lignes où l'article est populaire\n",
    "# filtered_clicks = clicks[clicks[\"user_id\"].isin(filtered_users)].copy()"
   ]
  },
  {
   "cell_type": "code",
   "execution_count": 76,
   "id": "37be1100-8840-4cf6-9ecd-330f4ceb29db",
   "metadata": {},
   "outputs": [],
   "source": [
    "# pondérer par log du nombre de clics par utilisateur sur un article\n",
    "articles_filtered_clicks[\"rating\"] = 1  \n",
    "click_counts = articles_filtered_clicks.groupby(['user_id', 'click_article_id']).size().reset_index(name='count')\n",
    "click_counts['rating'] = click_counts['count'].apply(lambda x: np.log1p(x))\n",
    "\n",
    "reader = Reader(rating_scale=(click_counts[\"rating\"].min(), click_counts[\"rating\"].max())) #échelle de notation définie dynamiquement\n",
    "data = Dataset.load_from_df(click_counts[[\"user_id\", \"click_article_id\", \"rating\"]], reader)\n",
    "trainset = data.build_full_trainset()"
   ]
  },
  {
   "cell_type": "code",
   "execution_count": 77,
   "id": "86c89270-b764-4d18-80c7-8628a0f97e4f",
   "metadata": {},
   "outputs": [
    {
     "name": "stdout",
     "output_type": "stream",
     "text": [
      "Computing the pearson similarity matrix...\n",
      "Done computing similarity matrix.\n"
     ]
    },
    {
     "data": {
      "text/plain": [
       "<surprise.prediction_algorithms.knns.KNNBasic at 0x1de58aeff80>"
      ]
     },
     "execution_count": 77,
     "metadata": {},
     "output_type": "execute_result"
    }
   ],
   "source": [
    "sim_options = {'name': 'pearson', 'user_based': True}\n",
    "model = KNNBasic(sim_options=sim_options)\n",
    "\n",
    "model.fit(trainset)"
   ]
  },
  {
   "cell_type": "code",
   "execution_count": 78,
   "id": "d875b0f6-5472-47aa-b6f0-5a202fc457af",
   "metadata": {},
   "outputs": [],
   "source": [
    "# user_ids_in_trainset = list(trainset._raw2inner_id_users.keys())\n",
    "# random.seed(42)\n",
    "# # Sélectionner aléatoirement 5 utilisateurs\n",
    "# random_users = random.sample(user_ids_in_trainset, 5)\n",
    "# random_users"
   ]
  },
  {
   "cell_type": "code",
   "execution_count": 79,
   "id": "23b2aa7b-4947-490b-9f33-3cd868400d2a",
   "metadata": {},
   "outputs": [
    {
     "name": "stdout",
     "output_type": "stream",
     "text": [
      "Utilisateurs similaires (user_id) pour 59193 : [125733, 52875, 244, 338, 653, 1015, 1119, 1390, 1565, 1717]\n"
     ]
    }
   ],
   "source": [
    "# Recommandations pour un utilisateur\n",
    "user_id = 59193\n",
    "\n",
    "if user_id in trainset._raw2inner_id_users:\n",
    "    user_inner_id = trainset.to_inner_uid(user_id)\n",
    "    neighbors_inner_ids = model.get_neighbors(user_inner_id, k=10)\n",
    "    neighbors = [trainset.to_raw_uid(inner_id) for inner_id in neighbors_inner_ids]\n",
    "    print(f\"Utilisateurs similaires (user_id) pour {user_id} : {neighbors}\")\n",
    "else:\n",
    "    print(\"Utilisateur non présent dans le trainset filtré.\")"
   ]
  },
  {
   "cell_type": "markdown",
   "id": "cb4cb553-dc42-41de-a983-96101514c0f8",
   "metadata": {},
   "source": [
    "Fonction pour recommander des articles à partir du modèle user-based"
   ]
  },
  {
   "cell_type": "code",
   "execution_count": 80,
   "id": "e816d80f-ffad-483d-a25e-fe7548b45e99",
   "metadata": {},
   "outputs": [],
   "source": [
    "def get_top_n(model, trainset, user_id, n=10):\n",
    "    # user_id = str(user_id_raw)\n",
    "\n",
    "    # Vérifier que l'utilisateur est connu\n",
    "    if user_id not in trainset._raw2inner_id_users:\n",
    "        print(\"Utilisateur non présent dans le trainset.\")\n",
    "        return []\n",
    "\n",
    "    inner_uid = trainset.to_inner_uid(user_id)\n",
    "\n",
    "    # Obtenir tous les items que l'utilisateur n'a pas encore vus\n",
    "    user_items = set([j for (j, _) in trainset.ur[inner_uid]])\n",
    "    all_items = set(range(trainset.n_items))\n",
    "    unseen_items = all_items - user_items\n",
    "\n",
    "    predictions = []\n",
    "    for inner_iid in unseen_items:\n",
    "        pred = model.predict(user_id, trainset.to_raw_iid(inner_iid))\n",
    "        predictions.append((trainset.to_raw_iid(inner_iid), pred.est))\n",
    "\n",
    "    # Trier et renvoyer les meilleurs\n",
    "    predictions.sort(key=lambda x: x[1], reverse=True)\n",
    "    return predictions[:n]"
   ]
  },
  {
   "cell_type": "code",
   "execution_count": 81,
   "id": "e01dbb51-7202-4235-92b9-6e71764f9e17",
   "metadata": {},
   "outputs": [
    {
     "data": {
      "text/html": [
       "<div>\n",
       "<style scoped>\n",
       "    .dataframe tbody tr th:only-of-type {\n",
       "        vertical-align: middle;\n",
       "    }\n",
       "\n",
       "    .dataframe tbody tr th {\n",
       "        vertical-align: top;\n",
       "    }\n",
       "\n",
       "    .dataframe thead th {\n",
       "        text-align: right;\n",
       "    }\n",
       "</style>\n",
       "<table border=\"1\" class=\"dataframe\">\n",
       "  <thead>\n",
       "    <tr style=\"text-align: right;\">\n",
       "      <th></th>\n",
       "      <th>click_article_id</th>\n",
       "      <th>score</th>\n",
       "    </tr>\n",
       "  </thead>\n",
       "  <tbody>\n",
       "    <tr>\n",
       "      <th>0</th>\n",
       "      <td>160974</td>\n",
       "      <td>433</td>\n",
       "    </tr>\n",
       "    <tr>\n",
       "      <th>1</th>\n",
       "      <td>272143</td>\n",
       "      <td>431</td>\n",
       "    </tr>\n",
       "    <tr>\n",
       "      <th>2</th>\n",
       "      <td>336221</td>\n",
       "      <td>377</td>\n",
       "    </tr>\n",
       "    <tr>\n",
       "      <th>3</th>\n",
       "      <td>336223</td>\n",
       "      <td>315</td>\n",
       "    </tr>\n",
       "    <tr>\n",
       "      <th>4</th>\n",
       "      <td>123909</td>\n",
       "      <td>305</td>\n",
       "    </tr>\n",
       "    <tr>\n",
       "      <th>5</th>\n",
       "      <td>331116</td>\n",
       "      <td>286</td>\n",
       "    </tr>\n",
       "    <tr>\n",
       "      <th>6</th>\n",
       "      <td>234698</td>\n",
       "      <td>281</td>\n",
       "    </tr>\n",
       "    <tr>\n",
       "      <th>7</th>\n",
       "      <td>272660</td>\n",
       "      <td>270</td>\n",
       "    </tr>\n",
       "    <tr>\n",
       "      <th>8</th>\n",
       "      <td>183176</td>\n",
       "      <td>264</td>\n",
       "    </tr>\n",
       "    <tr>\n",
       "      <th>9</th>\n",
       "      <td>96210</td>\n",
       "      <td>263</td>\n",
       "    </tr>\n",
       "  </tbody>\n",
       "</table>\n",
       "</div>"
      ],
      "text/plain": [
       "   click_article_id  score\n",
       "0            160974    433\n",
       "1            272143    431\n",
       "2            336221    377\n",
       "3            336223    315\n",
       "4            123909    305\n",
       "5            331116    286\n",
       "6            234698    281\n",
       "7            272660    270\n",
       "8            183176    264\n",
       "9             96210    263"
      ]
     },
     "execution_count": 81,
     "metadata": {},
     "output_type": "execute_result"
    }
   ],
   "source": [
    "top_articles"
   ]
  },
  {
   "cell_type": "code",
   "execution_count": 82,
   "id": "435d78fa-4c75-438a-81fd-3f88f94cd72c",
   "metadata": {},
   "outputs": [
    {
     "name": "stdout",
     "output_type": "stream",
     "text": [
      "Utilisateur: 59193\n",
      "Article 263295 - Score prédit : 1.95\n",
      "Article 263896 - Score prédit : 1.95\n",
      "Article 264284 - Score prédit : 1.79\n",
      "Article 264689 - Score prédit : 1.79\n",
      "Article 264955 - Score prédit : 1.79\n",
      "Article 39825 - Score prédit : 1.61\n",
      "Article 263442 - Score prédit : 1.61\n",
      "Article 263624 - Score prédit : 1.61\n",
      "Article 263674 - Score prédit : 1.61\n",
      "Article 264065 - Score prédit : 1.61\n",
      "\n",
      "Score moyen de similarité entre recommandations et historique : 0.2275\n"
     ]
    }
   ],
   "source": [
    "with mlflow.start_run(run_name=\"user_based_KNN\"):\n",
    "\n",
    "    user_id = 59193\n",
    "    \n",
    "    top_articles = get_top_n(model, trainset, user_id, n=10)\n",
    "    \n",
    "    print(f\"Utilisateur:\",user_id)\n",
    "    for article_id, score in top_articles:\n",
    "        print(f\"Article {article_id} - Score prédit : {score:.2f}\")\n",
    "\n",
    "    # conversion des recos dans un DataFrame\n",
    "    recommendations_df = pd.DataFrame(top_articles, columns=['click_article_id', 'similarity_score'])\n",
    "    \n",
    "    # Score moyen de similarité avec historique utilisateur\n",
    "    score = mean_similarity_score(content_model, seen_articles, recommendations_df)\n",
    "    print(f\"\\nScore moyen de similarité entre recommandations et historique : {score:.4f}\")\n",
    "\n",
    "    # Log des métriques\n",
    "    mlflow.log_metric(\"Similarité_histo\", score)"
   ]
  },
  {
   "cell_type": "code",
   "execution_count": null,
   "id": "ac1a7602-7002-440b-a754-cc9fcf67f95e",
   "metadata": {},
   "outputs": [],
   "source": []
  },
  {
   "cell_type": "markdown",
   "id": "37bb5b33-9c54-4f42-9ca8-f030fb839079",
   "metadata": {},
   "source": [
    "## 6.3  Model based (SVD)"
   ]
  },
  {
   "cell_type": "code",
   "execution_count": 83,
   "id": "94b16987-ea3f-48c1-8bdc-ad62b81e5d37",
   "metadata": {},
   "outputs": [],
   "source": [
    "# # Construire les données pour Surprise:\n",
    "# # Converti les clicks en format (user, item, rating)\n",
    "# clicks_df = clicks.copy()\n",
    "# # pondérer par log du nombre de clics par utilisateur sur un article\n",
    "# clicks_df[\"rating\"] = 1  \n",
    "# click_counts = clicks_df.groupby(['user_id', 'click_article_id']).size().reset_index(name='count')\n",
    "# click_counts['rating'] = click_counts['count'].apply(lambda x: np.log1p(x))\n",
    "\n",
    "# reader = Reader(rating_scale=(click_counts[\"rating\"].min(), click_counts[\"rating\"].max())) #échelle de notation définie dynamiquement\n",
    "# data = Dataset.load_from_df(click_counts[[\"user_id\", \"click_article_id\", \"rating\"]], reader)\n",
    "\n",
    "# trainset = data.build_full_trainset()"
   ]
  },
  {
   "cell_type": "code",
   "execution_count": 84,
   "id": "17049cbd-b2cd-452a-9768-5ef08c72423e",
   "metadata": {},
   "outputs": [],
   "source": [
    "# Construire les données pour Surprise:\n",
    "train_counts = clicks_train.groupby(['user_id', 'click_article_id']).size().reset_index(name='count')\n",
    "# Pondération par log du nombre de clics par utilisateur sur un article\n",
    "# train_counts['rating'] = train_counts['count'].apply(lambda x: np.log1p(x))\n",
    "min_count = train_counts['count'].min()\n",
    "max_count = train_counts['count'].max()\n",
    "train_counts['rating'] = (train_counts['count'] - min_count) / (max_count - min_count)\n",
    "\n",
    "reader = Reader(rating_scale=(train_counts[\"rating\"].min(), train_counts[\"rating\"].max())) #échelle de notation définie dynamiquement\n",
    "data = Dataset.load_from_df(train_counts[[\"user_id\", \"click_article_id\", \"rating\"]], reader)\n",
    "\n",
    "# Construire le trainset (Surprise)\n",
    "trainset = data.build_full_trainset()"
   ]
  },
  {
   "cell_type": "markdown",
   "id": "486dff71-7559-43a5-b324-cae85e7fc106",
   "metadata": {},
   "source": [
    "Optimisation des hyperparamètres via Gridsearch"
   ]
  },
  {
   "cell_type": "code",
   "execution_count": 85,
   "id": "5791f9d3-ec87-4545-98e3-c8bfea5859ff",
   "metadata": {},
   "outputs": [],
   "source": [
    "# param_grid = {'n_factors': [50, 100, 200],\n",
    "#               'n_epochs': [20, 50],\n",
    "#               'lr_all': [0.002, 0.005],\n",
    "#               'reg_all': [0.02, 0.04]\n",
    "#              }\n",
    "\n",
    "# gs = GridSearchCV(SVD, param_grid, measures=['rmse', 'mae'])#, cv=3)\n",
    "# gs.fit(data)\n",
    "\n",
    "# print(\"Meilleur score obtenu avec:\")\n",
    "# print(f\"Param: \",gs.best_params['rmse'])\n",
    "# print(f\"Score: \",gs.best_score['rmse'])"
   ]
  },
  {
   "cell_type": "code",
   "execution_count": 86,
   "id": "119c0356-4f49-4c30-9a3a-ef2ef5b4c52b",
   "metadata": {},
   "outputs": [],
   "source": [
    "# results_df = pd.DataFrame(gs.cv_results)\n",
    "\n",
    "# # Afficher les colonnes pertinentes\n",
    "# results_df[['params', 'mean_test_rmse', 'std_test_rmse', 'mean_test_mae', 'std_test_mae']]"
   ]
  },
  {
   "cell_type": "code",
   "execution_count": 87,
   "id": "e740f72e-2003-4323-8e0e-503aac1c9594",
   "metadata": {
    "scrolled": true
   },
   "outputs": [],
   "source": [
    "# for index, row in results_df.iterrows():\n",
    "#     print(f\"Index: {index}\")\n",
    "#     print(\"Paramètres:\")\n",
    "#     for key, value in row['params'].items():\n",
    "#         print(f\"  {key}: {value}\")\n",
    "#     print(f\"RMSE: {row['mean_test_rmse']:.4f}\")\n",
    "#     print(f\"MAE: {row['mean_test_mae']:.4f}\")\n",
    "#     print(\"-\" * 30)"
   ]
  },
  {
   "cell_type": "markdown",
   "id": "af48a1bc-d441-4879-bd06-e9157dab72d5",
   "metadata": {},
   "source": [
    "paramètres choisis:"
   ]
  },
  {
   "cell_type": "code",
   "execution_count": 88,
   "id": "50a1db61-816f-4ed9-bf39-c5250eb203a8",
   "metadata": {},
   "outputs": [],
   "source": [
    "params = {'n_factors': 200,\n",
    "              'n_epochs': 20,\n",
    "              'lr_all': 0.002,\n",
    "              'reg_all': 0.02\n",
    "             }"
   ]
  },
  {
   "cell_type": "code",
   "execution_count": 89,
   "id": "4e9835c6-09c2-4b5a-aa00-8be2adf8dad5",
   "metadata": {},
   "outputs": [
    {
     "data": {
      "text/plain": [
       "<surprise.prediction_algorithms.matrix_factorization.SVD at 0x1de58b3d0d0>"
      ]
     },
     "execution_count": 89,
     "metadata": {},
     "output_type": "execute_result"
    }
   ],
   "source": [
    "svd_tuned = SVD(**params)\n",
    "svd_tuned.fit(trainset)"
   ]
  },
  {
   "cell_type": "markdown",
   "id": "54f04e4d-4dec-43be-9dbe-1f3ddc31dda0",
   "metadata": {},
   "source": [
    "Wrapper SVD\n",
    "avec:\n",
    "* train_df (ou clicks_train)\n",
    "C’est un DataFrame Pandas, le jeu de données d'entraînement original.\n",
    "Format : (user_id, click_article_id)\n",
    "Utilisé pour :\n",
    "> Voir les articles qu’un utilisateur a déjà vus\n",
    "> Filtrer les interactions connues\n",
    "> Évaluer les recommandations\n",
    "\n",
    "* trainset\n",
    "C’est un objet interne de Surprise créé par : trainset = data.build_full_trainset()\n",
    "Format interne (avec encodage des IDs en inner_uid et inner_iid)\n",
    "Utilisé par l’algorithme SVD().fit(...)\n",
    "Il contient :\n",
    "> La matrice utilisateur-article (avec les ratings, implicites ici)\n",
    "> Les méthodes pour passer de user_id → inner_uid (et inversement)"
   ]
  },
  {
   "cell_type": "code",
   "execution_count": 90,
   "id": "89cc81c8-dc6f-4540-8a9c-499fb78cae79",
   "metadata": {},
   "outputs": [],
   "source": [
    "class SVDRecommender:\n",
    "    def __init__(self, model, trainset, train_df):\n",
    "        self.model = model\n",
    "        self.trainset = trainset\n",
    "        self.train_df = train_df\n",
    "\n",
    "    def recommend_items(self, user_id, items_to_ignore=None, topn=10):\n",
    "        try:\n",
    "            inner_uid = self.trainset.to_inner_uid(user_id)\n",
    "        except ValueError:\n",
    "            return pd.DataFrame(columns=['click_article_id', 'score'])\n",
    "\n",
    "        user_items = set(j for (j, _) in self.trainset.ur[inner_uid])\n",
    "        all_items = set(range(self.trainset.n_items))\n",
    "        unseen_items = all_items - user_items\n",
    "\n",
    "        predictions = []\n",
    "        for inner_iid in unseen_items:\n",
    "            raw_iid = self.trainset.to_raw_iid(inner_iid)\n",
    "            if items_to_ignore and int(raw_iid) in items_to_ignore:\n",
    "                continue\n",
    "            pred = self.model.predict(user_id, raw_iid)\n",
    "            predictions.append((int(raw_iid), pred.est))\n",
    "\n",
    "        top_preds = sorted(predictions, key=lambda x: x[1], reverse=True)[:topn]\n",
    "        return pd.DataFrame(top_preds, columns=['click_article_id', 'score'])\n",
    "\n",
    "    def get_model_name(self):\n",
    "        return \"SVD\""
   ]
  },
  {
   "cell_type": "code",
   "execution_count": 91,
   "id": "ca7eaf01-ed37-4a83-96f9-a756cdde526e",
   "metadata": {},
   "outputs": [
    {
     "name": "stderr",
     "output_type": "stream",
     "text": [
      "Évaluation du modèle: 100%|█████████████████████████████████████████████████████████████████████████████████████████████████| 1000/1000 [00:24<00:00, 41.49it/s]"
     ]
    },
    {
     "name": "stdout",
     "output_type": "stream",
     "text": [
      "{'recall@5': 0.0006, 'recall@10': 0.0009, 'precision@5': 0.0018, 'precision@10': 0.0016, 'modelName': 'SVD'}\n"
     ]
    },
    {
     "name": "stderr",
     "output_type": "stream",
     "text": [
      "\n"
     ]
    }
   ],
   "source": [
    "svd_wrapper_tuned = SVDRecommender(svd_tuned, trainset, train_df=clicks_train)\n",
    "\n",
    "evaluator = ModelEvaluator(train_df=clicks_train, test_df=clicks_test, k_list=[5, 10])\n",
    "results_tuned = evaluator.evaluate_model(svd_wrapper_tuned)\n",
    "print(results_tuned)"
   ]
  },
  {
   "cell_type": "code",
   "execution_count": 92,
   "id": "4e96e8c6-5bad-4578-836d-3ac4da9b334f",
   "metadata": {},
   "outputs": [
    {
     "name": "stdout",
     "output_type": "stream",
     "text": [
      "Articles vus en test : [336223, 237580, 129424, 288484, 286077, 236613, 199844, 83841, 282875, 182469, 140324, 114440, 234698, 182394, 36394, 123758, 119600, 205832, 285045, 216380, 141414, 156619, 118618, 32655, 129165, 120967, 118753, 234291, 141113, 284178, 331737, 308156, 298820, 187065, 114562, 157702, 303658, 313431, 141004, 233478, 3240, 362914, 235854, 118856, 123909, 87228, 83565, 237612, 166430, 95977, 118514, 96391, 96152, 129158, 256117, 140985, 286108, 284191, 351517, 140907, 123909, 140451, 124353, 113978, 119534]\n"
     ]
    },
    {
     "data": {
      "text/html": [
       "<div>\n",
       "<style scoped>\n",
       "    .dataframe tbody tr th:only-of-type {\n",
       "        vertical-align: middle;\n",
       "    }\n",
       "\n",
       "    .dataframe tbody tr th {\n",
       "        vertical-align: top;\n",
       "    }\n",
       "\n",
       "    .dataframe thead th {\n",
       "        text-align: right;\n",
       "    }\n",
       "</style>\n",
       "<table border=\"1\" class=\"dataframe\">\n",
       "  <thead>\n",
       "    <tr style=\"text-align: right;\">\n",
       "      <th></th>\n",
       "      <th>click_article_id</th>\n",
       "      <th>score</th>\n",
       "    </tr>\n",
       "  </thead>\n",
       "  <tbody>\n",
       "    <tr>\n",
       "      <th>0</th>\n",
       "      <td>79844</td>\n",
       "      <td>0.372190</td>\n",
       "    </tr>\n",
       "    <tr>\n",
       "      <th>1</th>\n",
       "      <td>149613</td>\n",
       "      <td>0.369072</td>\n",
       "    </tr>\n",
       "    <tr>\n",
       "      <th>2</th>\n",
       "      <td>300756</td>\n",
       "      <td>0.365351</td>\n",
       "    </tr>\n",
       "    <tr>\n",
       "      <th>3</th>\n",
       "      <td>84010</td>\n",
       "      <td>0.359794</td>\n",
       "    </tr>\n",
       "    <tr>\n",
       "      <th>4</th>\n",
       "      <td>97538</td>\n",
       "      <td>0.353357</td>\n",
       "    </tr>\n",
       "    <tr>\n",
       "      <th>5</th>\n",
       "      <td>164575</td>\n",
       "      <td>0.351498</td>\n",
       "    </tr>\n",
       "    <tr>\n",
       "      <th>6</th>\n",
       "      <td>66349</td>\n",
       "      <td>0.349986</td>\n",
       "    </tr>\n",
       "    <tr>\n",
       "      <th>7</th>\n",
       "      <td>277278</td>\n",
       "      <td>0.347753</td>\n",
       "    </tr>\n",
       "    <tr>\n",
       "      <th>8</th>\n",
       "      <td>354099</td>\n",
       "      <td>0.341792</td>\n",
       "    </tr>\n",
       "    <tr>\n",
       "      <th>9</th>\n",
       "      <td>198468</td>\n",
       "      <td>0.336335</td>\n",
       "    </tr>\n",
       "  </tbody>\n",
       "</table>\n",
       "</div>"
      ],
      "text/plain": [
       "   click_article_id     score\n",
       "0             79844  0.372190\n",
       "1            149613  0.369072\n",
       "2            300756  0.365351\n",
       "3             84010  0.359794\n",
       "4             97538  0.353357\n",
       "5            164575  0.351498\n",
       "6             66349  0.349986\n",
       "7            277278  0.347753\n",
       "8            354099  0.341792\n",
       "9            198468  0.336335"
      ]
     },
     "execution_count": 92,
     "metadata": {},
     "output_type": "execute_result"
    }
   ],
   "source": [
    "uid = 59193 \n",
    "print(\"Articles vus en test :\", clicks_test[clicks_test['user_id'] == uid]['click_article_id'].tolist())\n",
    "\n",
    "svd_wrapper_tuned.recommend_items(uid, items_to_ignore=clicks_train[clicks_train['user_id'] == uid]['click_article_id'].tolist(), topn=10)"
   ]
  },
  {
   "cell_type": "code",
   "execution_count": 93,
   "id": "27abbce7-5bd0-4558-b8f4-896fd7c5dac5",
   "metadata": {},
   "outputs": [
    {
     "name": "stdout",
     "output_type": "stream",
     "text": [
      "Articles vus en test : [336223, 237580, 129424, 288484, 286077, 236613, 199844, 83841, 282875, 182469, 140324, 114440, 234698, 182394, 36394, 123758, 119600, 205832, 285045, 216380, 141414, 156619, 118618, 32655, 129165, 120967, 118753, 234291, 141113, 284178, 331737, 308156, 298820, 187065, 114562, 157702, 303658, 313431, 141004, 233478, 3240, 362914, 235854, 118856, 123909, 87228, 83565, 237612, 166430, 95977, 118514, 96391, 96152, 129158, 256117, 140985, 286108, 284191, 351517, 140907, 123909, 140451, 124353, 113978, 119534]\n",
      "Articles recommandés : [79844, 149613, 300756, 84010, 97538, 164575, 66349, 277278, 354099, 198468]\n",
      "Articles en commun   : []\n",
      "\n",
      "Score moyen de similarité entre recommandations et historique : 0.2025\n"
     ]
    }
   ],
   "source": [
    "with mlflow.start_run(run_name=\"model_based_SVD\"):\n",
    "\n",
    "    uid = 59193 \n",
    "    \n",
    "    # Liste des articles vus en test\n",
    "    seen_test = clicks_test[clicks_test['user_id'] == uid]['click_article_id'].tolist()\n",
    "    \n",
    "    # Liste des articles recommandés par le modèle\n",
    "    recommended = svd_wrapper_tuned.recommend_items(\n",
    "        uid,\n",
    "        items_to_ignore=clicks_train[clicks_train['user_id'] == uid]['click_article_id'].tolist(),\n",
    "        topn=10\n",
    "    )['click_article_id'].tolist()\n",
    "    \n",
    "    # Articles en commun\n",
    "    common = set(seen_test) & set(recommended)\n",
    "    \n",
    "    print(\"Articles vus en test :\", seen_test)\n",
    "    print(\"Articles recommandés :\", recommended)\n",
    "    print(\"Articles en commun   :\", list(common))\n",
    "    \n",
    "    # conversion des recos dans un DataFrame\n",
    "    recommendations_df = pd.DataFrame({'click_article_id': recommended})\n",
    "    \n",
    "    # Score moyen de similarité avec historique utilisateur\n",
    "    score = mean_similarity_score(content_model, seen_articles, recommendations_df)\n",
    "    print(f\"\\nScore moyen de similarité entre recommandations et historique : {score:.4f}\")\n",
    "\n",
    "    # Log des métriques\n",
    "    mlflow.log_metric(\"Similarité_histo\", score)"
   ]
  },
  {
   "cell_type": "code",
   "execution_count": null,
   "id": "12b6317c-63f8-4d14-ba99-9021b19b28d3",
   "metadata": {},
   "outputs": [],
   "source": []
  },
  {
   "cell_type": "code",
   "execution_count": null,
   "id": "ee4dda3a-7934-4d8f-a0c1-ce3673be9765",
   "metadata": {},
   "outputs": [],
   "source": []
  },
  {
   "cell_type": "markdown",
   "id": "ade97243-acbf-48bb-8af2-3d85783db144",
   "metadata": {},
   "source": [
    "# Conclusion"
   ]
  }
 ],
 "metadata": {
  "kernelspec": {
   "display_name": "Python 3 (ipykernel)",
   "language": "python",
   "name": "python3"
  },
  "language_info": {
   "codemirror_mode": {
    "name": "ipython",
    "version": 3
   },
   "file_extension": ".py",
   "mimetype": "text/x-python",
   "name": "python",
   "nbconvert_exporter": "python",
   "pygments_lexer": "ipython3",
   "version": "3.12.10"
  }
 },
 "nbformat": 4,
 "nbformat_minor": 5
}
